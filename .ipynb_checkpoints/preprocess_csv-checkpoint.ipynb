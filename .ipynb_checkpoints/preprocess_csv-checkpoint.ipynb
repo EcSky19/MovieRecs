{
 "cells": [
  {
   "cell_type": "code",
   "execution_count": 1,
   "id": "5208ccae-abad-4334-84f3-8ddd9c77abec",
   "metadata": {},
   "outputs": [],
   "source": [
    "import os, json, re, stat, pathlib, base64\n",
    "import numpy as np\n",
    "import pandas as pd\n",
    "from sklearn.feature_extraction.text import TfidfVectorizer\n",
    "from sklearn.metrics.pairwise import linear_kernel\n",
    "from pathlib import Path"
   ]
  },
  {
   "cell_type": "code",
   "execution_count": 2,
   "id": "33bf57ae-e824-48dd-ac53-beb6860d5c9a",
   "metadata": {},
   "outputs": [],
   "source": [
    "pd.set_option('display.max_rows', 500)\n",
    "pd.set_option('display.max_columns', 500)\n",
    "pd.set_option('display.width', 1000)"
   ]
  },
  {
   "cell_type": "code",
   "execution_count": 3,
   "id": "093db1d6-9921-4882-8d24-b4134a9c504a",
   "metadata": {},
   "outputs": [],
   "source": [
    "def jaccard_similarity(list1, list2):\n",
    "    set1 = set(list1)\n",
    "    set2 = set(list2)\n",
    "    intersection = len(set1.intersection(set2))\n",
    "    union = len(set1.union(set2))\n",
    "    return float(intersection/union) if union !=0 else 0"
   ]
  },
  {
   "cell_type": "code",
   "execution_count": 4,
   "id": "832abdfe-b698-4097-b88c-4ed9cd136419",
   "metadata": {},
   "outputs": [
    {
     "data": {
      "text/html": [
       "<div>\n",
       "<style scoped>\n",
       "    .dataframe tbody tr th:only-of-type {\n",
       "        vertical-align: middle;\n",
       "    }\n",
       "\n",
       "    .dataframe tbody tr th {\n",
       "        vertical-align: top;\n",
       "    }\n",
       "\n",
       "    .dataframe thead th {\n",
       "        text-align: right;\n",
       "    }\n",
       "</style>\n",
       "<table border=\"1\" class=\"dataframe\">\n",
       "  <thead>\n",
       "    <tr style=\"text-align: right;\">\n",
       "      <th></th>\n",
       "      <th>id</th>\n",
       "      <th>title</th>\n",
       "      <th>vote_average</th>\n",
       "      <th>vote_count</th>\n",
       "      <th>status</th>\n",
       "      <th>release_date</th>\n",
       "      <th>revenue</th>\n",
       "      <th>runtime</th>\n",
       "      <th>budget</th>\n",
       "      <th>imdb_id</th>\n",
       "      <th>original_language</th>\n",
       "      <th>original_title</th>\n",
       "      <th>overview</th>\n",
       "      <th>popularity</th>\n",
       "      <th>tagline</th>\n",
       "      <th>genres</th>\n",
       "      <th>production_companies</th>\n",
       "      <th>production_countries</th>\n",
       "      <th>spoken_languages</th>\n",
       "      <th>cast</th>\n",
       "      <th>director</th>\n",
       "      <th>director_of_photography</th>\n",
       "      <th>writers</th>\n",
       "      <th>producers</th>\n",
       "      <th>music_composer</th>\n",
       "      <th>imdb_rating</th>\n",
       "      <th>imdb_votes</th>\n",
       "      <th>poster_path</th>\n",
       "    </tr>\n",
       "  </thead>\n",
       "  <tbody>\n",
       "    <tr>\n",
       "      <th>0</th>\n",
       "      <td>2</td>\n",
       "      <td>Ariel</td>\n",
       "      <td>7.100</td>\n",
       "      <td>346.0</td>\n",
       "      <td>Released</td>\n",
       "      <td>1988-10-21</td>\n",
       "      <td>0.0</td>\n",
       "      <td>73.0</td>\n",
       "      <td>0.0</td>\n",
       "      <td>tt0094675</td>\n",
       "      <td>fi</td>\n",
       "      <td>Ariel</td>\n",
       "      <td>A Finnish man goes to the city to find a job a...</td>\n",
       "      <td>1.7519</td>\n",
       "      <td>NaN</td>\n",
       "      <td>Comedy, Drama, Romance, Crime</td>\n",
       "      <td>Villealfa Filmproductions</td>\n",
       "      <td>Finland</td>\n",
       "      <td>suomi</td>\n",
       "      <td>Merja Pulkkinen, Eetu Hilkamo, Turo Pajala, Es...</td>\n",
       "      <td>Aki Kaurismäki</td>\n",
       "      <td>Timo Salminen</td>\n",
       "      <td>Aki Kaurismäki</td>\n",
       "      <td>Aki Kaurismäki</td>\n",
       "      <td>NaN</td>\n",
       "      <td>7.4</td>\n",
       "      <td>9148.0</td>\n",
       "      <td>/ojDg0PGvs6R9xYFodRct2kdI6wC.jpg</td>\n",
       "    </tr>\n",
       "    <tr>\n",
       "      <th>1</th>\n",
       "      <td>3</td>\n",
       "      <td>Shadows in Paradise</td>\n",
       "      <td>7.293</td>\n",
       "      <td>409.0</td>\n",
       "      <td>Released</td>\n",
       "      <td>1986-10-17</td>\n",
       "      <td>0.0</td>\n",
       "      <td>74.0</td>\n",
       "      <td>0.0</td>\n",
       "      <td>tt0092149</td>\n",
       "      <td>fi</td>\n",
       "      <td>Varjoja paratiisissa</td>\n",
       "      <td>Nikander, a rubbish collector and would-be ent...</td>\n",
       "      <td>1.9295</td>\n",
       "      <td>NaN</td>\n",
       "      <td>Comedy, Drama, Romance</td>\n",
       "      <td>Villealfa Filmproductions</td>\n",
       "      <td>Finland</td>\n",
       "      <td>suomi, English, svenska</td>\n",
       "      <td>Esko Nikkari, Mari Rantasila, Marina Martinoff...</td>\n",
       "      <td>Aki Kaurismäki</td>\n",
       "      <td>Timo Salminen</td>\n",
       "      <td>Aki Kaurismäki</td>\n",
       "      <td>Mika Kaurismäki</td>\n",
       "      <td>NaN</td>\n",
       "      <td>7.4</td>\n",
       "      <td>7969.0</td>\n",
       "      <td>/nj01hspawPof0mJmlgfjuLyJuRN.jpg</td>\n",
       "    </tr>\n",
       "    <tr>\n",
       "      <th>2</th>\n",
       "      <td>5</td>\n",
       "      <td>Four Rooms</td>\n",
       "      <td>5.861</td>\n",
       "      <td>2687.0</td>\n",
       "      <td>Released</td>\n",
       "      <td>1995-12-09</td>\n",
       "      <td>4257354.0</td>\n",
       "      <td>98.0</td>\n",
       "      <td>4000000.0</td>\n",
       "      <td>tt0113101</td>\n",
       "      <td>en</td>\n",
       "      <td>Four Rooms</td>\n",
       "      <td>It's Ted the Bellhop's first night on the job....</td>\n",
       "      <td>9.6284</td>\n",
       "      <td>Twelve outrageous guests. Four scandalous requ...</td>\n",
       "      <td>Comedy, Crime</td>\n",
       "      <td>Miramax, A Band Apart</td>\n",
       "      <td>United States of America</td>\n",
       "      <td>English</td>\n",
       "      <td>Quinn Hellerman, Lawrence Bender, Tim Roth, La...</td>\n",
       "      <td>Allison Anders, Robert Rodriguez, Alexandre Ro...</td>\n",
       "      <td>Phil Parmet, Rodrigo García, Guillermo Navarro...</td>\n",
       "      <td>Allison Anders, Robert Rodriguez, Alexandre Ro...</td>\n",
       "      <td>Lawrence Bender, Alexandre Rockwell, Quentin T...</td>\n",
       "      <td>Combustible Edison</td>\n",
       "      <td>6.7</td>\n",
       "      <td>114082.0</td>\n",
       "      <td>/75aHn1NOYXh4M7L5shoeQ6NGykP.jpg</td>\n",
       "    </tr>\n",
       "    <tr>\n",
       "      <th>3</th>\n",
       "      <td>6</td>\n",
       "      <td>Judgment Night</td>\n",
       "      <td>6.500</td>\n",
       "      <td>349.0</td>\n",
       "      <td>Released</td>\n",
       "      <td>1993-10-15</td>\n",
       "      <td>12136938.0</td>\n",
       "      <td>109.0</td>\n",
       "      <td>21000000.0</td>\n",
       "      <td>tt0107286</td>\n",
       "      <td>en</td>\n",
       "      <td>Judgment Night</td>\n",
       "      <td>Four young friends, while taking a shortcut en...</td>\n",
       "      <td>4.5607</td>\n",
       "      <td>Don't move. Don't whisper. Don't even breathe.</td>\n",
       "      <td>Action, Crime, Thriller</td>\n",
       "      <td>Largo Entertainment, JVC, Universal Pictures</td>\n",
       "      <td>United States of America</td>\n",
       "      <td>English</td>\n",
       "      <td>Michael Scranton, Hank McGill, Donovan D. Ross...</td>\n",
       "      <td>Stephen Hopkins</td>\n",
       "      <td>Peter Levy</td>\n",
       "      <td>Jere Cunningham, Lewis Colick</td>\n",
       "      <td>Gene Levy, Lloyd Segan, Marilyn Vance</td>\n",
       "      <td>Alan Silvestri</td>\n",
       "      <td>6.6</td>\n",
       "      <td>19885.0</td>\n",
       "      <td>/3rvvpS9YPM5HB2f4HYiNiJVtdam.jpg</td>\n",
       "    </tr>\n",
       "    <tr>\n",
       "      <th>4</th>\n",
       "      <td>8</td>\n",
       "      <td>Life in Loops (A Megacities RMX)</td>\n",
       "      <td>7.500</td>\n",
       "      <td>27.0</td>\n",
       "      <td>Released</td>\n",
       "      <td>2006-01-01</td>\n",
       "      <td>0.0</td>\n",
       "      <td>80.0</td>\n",
       "      <td>42000.0</td>\n",
       "      <td>tt0825671</td>\n",
       "      <td>en</td>\n",
       "      <td>Life in Loops (A Megacities RMX)</td>\n",
       "      <td>Timo Novotny labels his new project an experim...</td>\n",
       "      <td>3.2030</td>\n",
       "      <td>A Megacities remix.</td>\n",
       "      <td>Documentary</td>\n",
       "      <td>inLoops</td>\n",
       "      <td>Austria</td>\n",
       "      <td>English, हिन्दी, 日本語, Pусский, Español</td>\n",
       "      <td>NaN</td>\n",
       "      <td>Timo Novotny</td>\n",
       "      <td>Wolfgang Thaler</td>\n",
       "      <td>Michael Glawogger, Timo Novotny</td>\n",
       "      <td>Ulrich Gehmacher, Timo Novotny</td>\n",
       "      <td>NaN</td>\n",
       "      <td>8.2</td>\n",
       "      <td>284.0</td>\n",
       "      <td>/7ln81BRnPR2wqxuITZxEciCe1lc.jpg</td>\n",
       "    </tr>\n",
       "  </tbody>\n",
       "</table>\n",
       "</div>"
      ],
      "text/plain": [
       "   id                             title  vote_average  vote_count    status release_date     revenue  runtime      budget    imdb_id original_language                    original_title                                           overview  popularity                                            tagline                         genres                          production_companies      production_countries                        spoken_languages                                               cast                                           director                            director_of_photography                                            writers                                          producers      music_composer  imdb_rating  imdb_votes                       poster_path\n",
       "0   2                             Ariel         7.100       346.0  Released   1988-10-21         0.0     73.0         0.0  tt0094675                fi                             Ariel  A Finnish man goes to the city to find a job a...      1.7519                                                NaN  Comedy, Drama, Romance, Crime                     Villealfa Filmproductions                   Finland                                   suomi  Merja Pulkkinen, Eetu Hilkamo, Turo Pajala, Es...                                     Aki Kaurismäki                                      Timo Salminen                                     Aki Kaurismäki                                     Aki Kaurismäki                 NaN          7.4      9148.0  /ojDg0PGvs6R9xYFodRct2kdI6wC.jpg\n",
       "1   3               Shadows in Paradise         7.293       409.0  Released   1986-10-17         0.0     74.0         0.0  tt0092149                fi              Varjoja paratiisissa  Nikander, a rubbish collector and would-be ent...      1.9295                                                NaN         Comedy, Drama, Romance                     Villealfa Filmproductions                   Finland                 suomi, English, svenska  Esko Nikkari, Mari Rantasila, Marina Martinoff...                                     Aki Kaurismäki                                      Timo Salminen                                     Aki Kaurismäki                                    Mika Kaurismäki                 NaN          7.4      7969.0  /nj01hspawPof0mJmlgfjuLyJuRN.jpg\n",
       "2   5                        Four Rooms         5.861      2687.0  Released   1995-12-09   4257354.0     98.0   4000000.0  tt0113101                en                        Four Rooms  It's Ted the Bellhop's first night on the job....      9.6284  Twelve outrageous guests. Four scandalous requ...                  Comedy, Crime                         Miramax, A Band Apart  United States of America                                 English  Quinn Hellerman, Lawrence Bender, Tim Roth, La...  Allison Anders, Robert Rodriguez, Alexandre Ro...  Phil Parmet, Rodrigo García, Guillermo Navarro...  Allison Anders, Robert Rodriguez, Alexandre Ro...  Lawrence Bender, Alexandre Rockwell, Quentin T...  Combustible Edison          6.7    114082.0  /75aHn1NOYXh4M7L5shoeQ6NGykP.jpg\n",
       "3   6                    Judgment Night         6.500       349.0  Released   1993-10-15  12136938.0    109.0  21000000.0  tt0107286                en                    Judgment Night  Four young friends, while taking a shortcut en...      4.5607     Don't move. Don't whisper. Don't even breathe.        Action, Crime, Thriller  Largo Entertainment, JVC, Universal Pictures  United States of America                                 English  Michael Scranton, Hank McGill, Donovan D. Ross...                                    Stephen Hopkins                                         Peter Levy                      Jere Cunningham, Lewis Colick              Gene Levy, Lloyd Segan, Marilyn Vance      Alan Silvestri          6.6     19885.0  /3rvvpS9YPM5HB2f4HYiNiJVtdam.jpg\n",
       "4   8  Life in Loops (A Megacities RMX)         7.500        27.0  Released   2006-01-01         0.0     80.0     42000.0  tt0825671                en  Life in Loops (A Megacities RMX)  Timo Novotny labels his new project an experim...      3.2030                                A Megacities remix.                    Documentary                                       inLoops                   Austria  English, हिन्दी, 日本語, Pусский, Español                                                NaN                                       Timo Novotny                                    Wolfgang Thaler                    Michael Glawogger, Timo Novotny                     Ulrich Gehmacher, Timo Novotny                 NaN          8.2       284.0  /7ln81BRnPR2wqxuITZxEciCe1lc.jpg"
      ]
     },
     "execution_count": 4,
     "metadata": {},
     "output_type": "execute_result"
    }
   ],
   "source": [
    "DATA_PATH = \"/Users/ethancoskay/projects/MovieRecs/data/TMDB_all_movies.csv\"\n",
    "df_main = pd.read_csv(DATA_PATH)\n",
    "df_main.head()"
   ]
  },
  {
   "cell_type": "code",
   "execution_count": 5,
   "id": "e980b525-d10a-44be-95a8-3db664670fd3",
   "metadata": {},
   "outputs": [],
   "source": [
    "df = df_main[['id', 'title', 'overview', 'genres', 'production_companies', 'cast', 'director', 'writers', 'producers']]"
   ]
  },
  {
   "cell_type": "code",
   "execution_count": 6,
   "id": "f8c26309-4bbf-4603-9d7d-baaa093caf55",
   "metadata": {},
   "outputs": [
    {
     "name": "stderr",
     "output_type": "stream",
     "text": [
      "/var/folders/39/8v7z_shs5qd71d5q4_6m776w0000gn/T/ipykernel_79288/2146218560.py:3: SettingWithCopyWarning: \n",
      "A value is trying to be set on a copy of a slice from a DataFrame.\n",
      "Try using .loc[row_indexer,col_indexer] = value instead\n",
      "\n",
      "See the caveats in the documentation: https://pandas.pydata.org/pandas-docs/stable/user_guide/indexing.html#returning-a-view-versus-a-copy\n",
      "  df[col] = df[col].fillna('').str.lower().str.replace(r\"\\s+\", \"\", regex=True).str.split(\",\")\n",
      "/var/folders/39/8v7z_shs5qd71d5q4_6m776w0000gn/T/ipykernel_79288/2146218560.py:4: SettingWithCopyWarning: \n",
      "A value is trying to be set on a copy of a slice from a DataFrame.\n",
      "Try using .loc[row_indexer,col_indexer] = value instead\n",
      "\n",
      "See the caveats in the documentation: https://pandas.pydata.org/pandas-docs/stable/user_guide/indexing.html#returning-a-view-versus-a-copy\n",
      "  df[col] = df[col].apply(lambda x: x[:4] if len(x)>4 else x)\n",
      "/var/folders/39/8v7z_shs5qd71d5q4_6m776w0000gn/T/ipykernel_79288/2146218560.py:7: SettingWithCopyWarning: \n",
      "A value is trying to be set on a copy of a slice from a DataFrame.\n",
      "Try using .loc[row_indexer,col_indexer] = value instead\n",
      "\n",
      "See the caveats in the documentation: https://pandas.pydata.org/pandas-docs/stable/user_guide/indexing.html#returning-a-view-versus-a-copy\n",
      "  df[\"overview\"] = df[\"overview\"].fillna('').str.lower()\n"
     ]
    }
   ],
   "source": [
    "cols_to_lower = ['director', 'writers', 'producers', 'cast', 'production_companies', 'genres']\n",
    "for col in cols_to_lower:\n",
    "    df[col] = df[col].fillna('').str.lower().str.replace(r\"\\s+\", \"\", regex=True).str.split(\",\")\n",
    "    df[col] = df[col].apply(lambda x: x[:4] if len(x)>4 else x)\n",
    "\n",
    "\n",
    "df[\"overview\"] = df[\"overview\"].fillna('').str.lower()"
   ]
  },
  {
   "cell_type": "code",
   "execution_count": 7,
   "id": "162f8aef-097b-4cdf-a2e1-f96704a615e9",
   "metadata": {},
   "outputs": [
    {
     "data": {
      "text/html": [
       "<div>\n",
       "<style scoped>\n",
       "    .dataframe tbody tr th:only-of-type {\n",
       "        vertical-align: middle;\n",
       "    }\n",
       "\n",
       "    .dataframe tbody tr th {\n",
       "        vertical-align: top;\n",
       "    }\n",
       "\n",
       "    .dataframe thead th {\n",
       "        text-align: right;\n",
       "    }\n",
       "</style>\n",
       "<table border=\"1\" class=\"dataframe\">\n",
       "  <thead>\n",
       "    <tr style=\"text-align: right;\">\n",
       "      <th></th>\n",
       "      <th>id</th>\n",
       "      <th>title</th>\n",
       "      <th>overview</th>\n",
       "      <th>genres</th>\n",
       "      <th>production_companies</th>\n",
       "      <th>cast</th>\n",
       "      <th>director</th>\n",
       "      <th>writers</th>\n",
       "      <th>producers</th>\n",
       "    </tr>\n",
       "  </thead>\n",
       "  <tbody>\n",
       "    <tr>\n",
       "      <th>0</th>\n",
       "      <td>2</td>\n",
       "      <td>Ariel</td>\n",
       "      <td>a finnish man goes to the city to find a job a...</td>\n",
       "      <td>[comedy, drama, romance, crime]</td>\n",
       "      <td>[villealfafilmproductions]</td>\n",
       "      <td>[merjapulkkinen, eetuhilkamo, turopajala, esko...</td>\n",
       "      <td>[akikaurismäki]</td>\n",
       "      <td>[akikaurismäki]</td>\n",
       "      <td>[akikaurismäki]</td>\n",
       "    </tr>\n",
       "    <tr>\n",
       "      <th>1</th>\n",
       "      <td>3</td>\n",
       "      <td>Shadows in Paradise</td>\n",
       "      <td>nikander, a rubbish collector and would-be ent...</td>\n",
       "      <td>[comedy, drama, romance]</td>\n",
       "      <td>[villealfafilmproductions]</td>\n",
       "      <td>[eskonikkari, marirantasila, marinamartinoff, ...</td>\n",
       "      <td>[akikaurismäki]</td>\n",
       "      <td>[akikaurismäki]</td>\n",
       "      <td>[mikakaurismäki]</td>\n",
       "    </tr>\n",
       "    <tr>\n",
       "      <th>2</th>\n",
       "      <td>5</td>\n",
       "      <td>Four Rooms</td>\n",
       "      <td>it's ted the bellhop's first night on the job....</td>\n",
       "      <td>[comedy, crime]</td>\n",
       "      <td>[miramax, abandapart]</td>\n",
       "      <td>[quinnhellerman, lawrencebender, timroth, lana...</td>\n",
       "      <td>[allisonanders, robertrodriguez, alexandrerock...</td>\n",
       "      <td>[allisonanders, robertrodriguez, alexandrerock...</td>\n",
       "      <td>[lawrencebender, alexandrerockwell, quentintar...</td>\n",
       "    </tr>\n",
       "    <tr>\n",
       "      <th>3</th>\n",
       "      <td>6</td>\n",
       "      <td>Judgment Night</td>\n",
       "      <td>four young friends, while taking a shortcut en...</td>\n",
       "      <td>[action, crime, thriller]</td>\n",
       "      <td>[largoentertainment, jvc, universalpictures]</td>\n",
       "      <td>[michaelscranton, hankmcgill, donovand.ross, n...</td>\n",
       "      <td>[stephenhopkins]</td>\n",
       "      <td>[jerecunningham, lewiscolick]</td>\n",
       "      <td>[genelevy, lloydsegan, marilynvance]</td>\n",
       "    </tr>\n",
       "    <tr>\n",
       "      <th>4</th>\n",
       "      <td>8</td>\n",
       "      <td>Life in Loops (A Megacities RMX)</td>\n",
       "      <td>timo novotny labels his new project an experim...</td>\n",
       "      <td>[documentary]</td>\n",
       "      <td>[inloops]</td>\n",
       "      <td>[]</td>\n",
       "      <td>[timonovotny]</td>\n",
       "      <td>[michaelglawogger, timonovotny]</td>\n",
       "      <td>[ulrichgehmacher, timonovotny]</td>\n",
       "    </tr>\n",
       "  </tbody>\n",
       "</table>\n",
       "</div>"
      ],
      "text/plain": [
       "   id                             title                                           overview                           genres                          production_companies                                               cast                                           director                                            writers                                          producers\n",
       "0   2                             Ariel  a finnish man goes to the city to find a job a...  [comedy, drama, romance, crime]                    [villealfafilmproductions]  [merjapulkkinen, eetuhilkamo, turopajala, esko...                                    [akikaurismäki]                                    [akikaurismäki]                                    [akikaurismäki]\n",
       "1   3               Shadows in Paradise  nikander, a rubbish collector and would-be ent...         [comedy, drama, romance]                    [villealfafilmproductions]  [eskonikkari, marirantasila, marinamartinoff, ...                                    [akikaurismäki]                                    [akikaurismäki]                                   [mikakaurismäki]\n",
       "2   5                        Four Rooms  it's ted the bellhop's first night on the job....                  [comedy, crime]                         [miramax, abandapart]  [quinnhellerman, lawrencebender, timroth, lana...  [allisonanders, robertrodriguez, alexandrerock...  [allisonanders, robertrodriguez, alexandrerock...  [lawrencebender, alexandrerockwell, quentintar...\n",
       "3   6                    Judgment Night  four young friends, while taking a shortcut en...        [action, crime, thriller]  [largoentertainment, jvc, universalpictures]  [michaelscranton, hankmcgill, donovand.ross, n...                                   [stephenhopkins]                      [jerecunningham, lewiscolick]               [genelevy, lloydsegan, marilynvance]\n",
       "4   8  Life in Loops (A Megacities RMX)  timo novotny labels his new project an experim...                    [documentary]                                     [inloops]                                                 []                                      [timonovotny]                    [michaelglawogger, timonovotny]                     [ulrichgehmacher, timonovotny]"
      ]
     },
     "execution_count": 7,
     "metadata": {},
     "output_type": "execute_result"
    }
   ],
   "source": [
    "df.head()"
   ]
  },
  {
   "cell_type": "code",
   "execution_count": 8,
   "id": "c14035ea-6daa-4f2c-821f-238428dadbfa",
   "metadata": {},
   "outputs": [
    {
     "data": {
      "text/plain": [
       "['merjapulkkinen', 'eetuhilkamo', 'turopajala', 'eskosalminen']"
      ]
     },
     "execution_count": 8,
     "metadata": {},
     "output_type": "execute_result"
    }
   ],
   "source": [
    "df.cast[0]"
   ]
  },
  {
   "cell_type": "code",
   "execution_count": 9,
   "id": "3c810d20-eefa-48af-b3af-7cf14491be13",
   "metadata": {},
   "outputs": [
    {
     "name": "stderr",
     "output_type": "stream",
     "text": [
      "/var/folders/39/8v7z_shs5qd71d5q4_6m776w0000gn/T/ipykernel_79288/2250808477.py:11: SettingWithCopyWarning: \n",
      "A value is trying to be set on a copy of a slice from a DataFrame.\n",
      "Try using .loc[row_indexer,col_indexer] = value instead\n",
      "\n",
      "See the caveats in the documentation: https://pandas.pydata.org/pandas-docs/stable/user_guide/indexing.html#returning-a-view-versus-a-copy\n",
      "  df['tags'] = df.apply(merge_and_unique, axis=1)\n"
     ]
    }
   ],
   "source": [
    "cols_to_merge = ['director', 'writers', 'producers', 'cast', 'production_companies', 'genres']\n",
    "\n",
    "# Function to join lists from multiple columns, convert to set (for uniqueness), then back to list\n",
    "def merge_and_unique(row):\n",
    "    combined = []\n",
    "    for col in cols_to_merge:\n",
    "        combined.extend(row[col])  # Add the list from each column to combined list\n",
    "    return list(set(combined))  # Convert to set for uniqueness, then back to list\n",
    "\n",
    "# Apply the function to each row\n",
    "df['tags'] = df.apply(merge_and_unique, axis=1)"
   ]
  },
  {
   "cell_type": "code",
   "execution_count": 10,
   "id": "079e4548-bab9-4155-8c2c-6a95ac2cd89b",
   "metadata": {},
   "outputs": [
    {
     "name": "stderr",
     "output_type": "stream",
     "text": [
      "/var/folders/39/8v7z_shs5qd71d5q4_6m776w0000gn/T/ipykernel_79288/708697862.py:1: SettingWithCopyWarning: \n",
      "A value is trying to be set on a copy of a slice from a DataFrame\n",
      "\n",
      "See the caveats in the documentation: https://pandas.pydata.org/pandas-docs/stable/user_guide/indexing.html#returning-a-view-versus-a-copy\n",
      "  df.drop(columns=cols_to_merge, inplace=True)\n"
     ]
    }
   ],
   "source": [
    "df.drop(columns=cols_to_merge, inplace=True)"
   ]
  },
  {
   "cell_type": "code",
   "execution_count": 11,
   "id": "116f4105-40e0-4141-9e68-162988a483c1",
   "metadata": {},
   "outputs": [],
   "source": [
    "df.set_index('id', inplace=True)"
   ]
  },
  {
   "cell_type": "code",
   "execution_count": 12,
   "id": "06d96bc8-42d3-46e2-b46e-ef040c92e1ec",
   "metadata": {},
   "outputs": [
    {
     "data": {
      "text/html": [
       "<div>\n",
       "<style scoped>\n",
       "    .dataframe tbody tr th:only-of-type {\n",
       "        vertical-align: middle;\n",
       "    }\n",
       "\n",
       "    .dataframe tbody tr th {\n",
       "        vertical-align: top;\n",
       "    }\n",
       "\n",
       "    .dataframe thead th {\n",
       "        text-align: right;\n",
       "    }\n",
       "</style>\n",
       "<table border=\"1\" class=\"dataframe\">\n",
       "  <thead>\n",
       "    <tr style=\"text-align: right;\">\n",
       "      <th></th>\n",
       "      <th>title</th>\n",
       "      <th>overview</th>\n",
       "      <th>tags</th>\n",
       "    </tr>\n",
       "    <tr>\n",
       "      <th>id</th>\n",
       "      <th></th>\n",
       "      <th></th>\n",
       "      <th></th>\n",
       "    </tr>\n",
       "  </thead>\n",
       "  <tbody>\n",
       "    <tr>\n",
       "      <th>2</th>\n",
       "      <td>Ariel</td>\n",
       "      <td>a finnish man goes to the city to find a job a...</td>\n",
       "      <td>[drama, comedy, akikaurismäki, turopajala, cri...</td>\n",
       "    </tr>\n",
       "    <tr>\n",
       "      <th>3</th>\n",
       "      <td>Shadows in Paradise</td>\n",
       "      <td>nikander, a rubbish collector and would-be ent...</td>\n",
       "      <td>[comedy, akikaurismäki, eskonikkari, mikakauri...</td>\n",
       "    </tr>\n",
       "    <tr>\n",
       "      <th>5</th>\n",
       "      <td>Four Rooms</td>\n",
       "      <td>it's ted the bellhop's first night on the job....</td>\n",
       "      <td>[quentintarantino, abandapart, allisonanders, ...</td>\n",
       "    </tr>\n",
       "    <tr>\n",
       "      <th>6</th>\n",
       "      <td>Judgment Night</td>\n",
       "      <td>four young friends, while taking a shortcut en...</td>\n",
       "      <td>[donovand.ross, michaelscranton, action, lloyd...</td>\n",
       "    </tr>\n",
       "    <tr>\n",
       "      <th>8</th>\n",
       "      <td>Life in Loops (A Megacities RMX)</td>\n",
       "      <td>timo novotny labels his new project an experim...</td>\n",
       "      <td>[, documentary, timonovotny, michaelglawogger,...</td>\n",
       "    </tr>\n",
       "  </tbody>\n",
       "</table>\n",
       "</div>"
      ],
      "text/plain": [
       "                               title                                           overview                                               tags\n",
       "id                                                                                                                                        \n",
       "2                              Ariel  a finnish man goes to the city to find a job a...  [drama, comedy, akikaurismäki, turopajala, cri...\n",
       "3                Shadows in Paradise  nikander, a rubbish collector and would-be ent...  [comedy, akikaurismäki, eskonikkari, mikakauri...\n",
       "5                         Four Rooms  it's ted the bellhop's first night on the job....  [quentintarantino, abandapart, allisonanders, ...\n",
       "6                     Judgment Night  four young friends, while taking a shortcut en...  [donovand.ross, michaelscranton, action, lloyd...\n",
       "8   Life in Loops (A Megacities RMX)  timo novotny labels his new project an experim...  [, documentary, timonovotny, michaelglawogger,..."
      ]
     },
     "execution_count": 12,
     "metadata": {},
     "output_type": "execute_result"
    }
   ],
   "source": [
    "df.head()"
   ]
  },
  {
   "cell_type": "code",
   "execution_count": 13,
   "id": "277a47d2-b50a-4c85-8ca6-7e4c1940ce09",
   "metadata": {},
   "outputs": [
    {
     "name": "stderr",
     "output_type": "stream",
     "text": [
      "/var/folders/39/8v7z_shs5qd71d5q4_6m776w0000gn/T/ipykernel_79288/1518854655.py:1: SettingWithCopyWarning: \n",
      "A value is trying to be set on a copy of a slice from a DataFrame.\n",
      "Try using .loc[row_indexer,col_indexer] = value instead\n",
      "\n",
      "See the caveats in the documentation: https://pandas.pydata.org/pandas-docs/stable/user_guide/indexing.html#returning-a-view-versus-a-copy\n",
      "  df['tags'] = df['tags'].apply(lambda x: [item for item in x if item != ''] if isinstance(x, list) else x)\n"
     ]
    },
    {
     "data": {
      "text/html": [
       "<div>\n",
       "<style scoped>\n",
       "    .dataframe tbody tr th:only-of-type {\n",
       "        vertical-align: middle;\n",
       "    }\n",
       "\n",
       "    .dataframe tbody tr th {\n",
       "        vertical-align: top;\n",
       "    }\n",
       "\n",
       "    .dataframe thead th {\n",
       "        text-align: right;\n",
       "    }\n",
       "</style>\n",
       "<table border=\"1\" class=\"dataframe\">\n",
       "  <thead>\n",
       "    <tr style=\"text-align: right;\">\n",
       "      <th></th>\n",
       "      <th>title</th>\n",
       "      <th>overview</th>\n",
       "      <th>tags</th>\n",
       "    </tr>\n",
       "    <tr>\n",
       "      <th>id</th>\n",
       "      <th></th>\n",
       "      <th></th>\n",
       "      <th></th>\n",
       "    </tr>\n",
       "  </thead>\n",
       "  <tbody>\n",
       "    <tr>\n",
       "      <th>2</th>\n",
       "      <td>Ariel</td>\n",
       "      <td>a finnish man goes to the city to find a job a...</td>\n",
       "      <td>[drama, comedy, akikaurismäki, turopajala, cri...</td>\n",
       "    </tr>\n",
       "    <tr>\n",
       "      <th>3</th>\n",
       "      <td>Shadows in Paradise</td>\n",
       "      <td>nikander, a rubbish collector and would-be ent...</td>\n",
       "      <td>[comedy, akikaurismäki, eskonikkari, mikakauri...</td>\n",
       "    </tr>\n",
       "    <tr>\n",
       "      <th>5</th>\n",
       "      <td>Four Rooms</td>\n",
       "      <td>it's ted the bellhop's first night on the job....</td>\n",
       "      <td>[quentintarantino, abandapart, allisonanders, ...</td>\n",
       "    </tr>\n",
       "    <tr>\n",
       "      <th>6</th>\n",
       "      <td>Judgment Night</td>\n",
       "      <td>four young friends, while taking a shortcut en...</td>\n",
       "      <td>[donovand.ross, michaelscranton, action, lloyd...</td>\n",
       "    </tr>\n",
       "    <tr>\n",
       "      <th>8</th>\n",
       "      <td>Life in Loops (A Megacities RMX)</td>\n",
       "      <td>timo novotny labels his new project an experim...</td>\n",
       "      <td>[documentary, timonovotny, michaelglawogger, u...</td>\n",
       "    </tr>\n",
       "  </tbody>\n",
       "</table>\n",
       "</div>"
      ],
      "text/plain": [
       "                               title                                           overview                                               tags\n",
       "id                                                                                                                                        \n",
       "2                              Ariel  a finnish man goes to the city to find a job a...  [drama, comedy, akikaurismäki, turopajala, cri...\n",
       "3                Shadows in Paradise  nikander, a rubbish collector and would-be ent...  [comedy, akikaurismäki, eskonikkari, mikakauri...\n",
       "5                         Four Rooms  it's ted the bellhop's first night on the job....  [quentintarantino, abandapart, allisonanders, ...\n",
       "6                     Judgment Night  four young friends, while taking a shortcut en...  [donovand.ross, michaelscranton, action, lloyd...\n",
       "8   Life in Loops (A Megacities RMX)  timo novotny labels his new project an experim...  [documentary, timonovotny, michaelglawogger, u..."
      ]
     },
     "execution_count": 13,
     "metadata": {},
     "output_type": "execute_result"
    }
   ],
   "source": [
    "df['tags'] = df['tags'].apply(lambda x: [item for item in x if item != ''] if isinstance(x, list) else x)\n",
    "df.head()"
   ]
  },
  {
   "cell_type": "code",
   "execution_count": 14,
   "id": "fb49d8ae-68a6-420c-921b-e1aecb8d58dc",
   "metadata": {},
   "outputs": [
    {
     "data": {
      "text/plain": [
       "['documentary',\n",
       " 'timonovotny',\n",
       " 'michaelglawogger',\n",
       " 'ulrichgehmacher',\n",
       " 'inloops']"
      ]
     },
     "execution_count": 14,
     "metadata": {},
     "output_type": "execute_result"
    }
   ],
   "source": [
    "df[\"tags\"][8]"
   ]
  },
  {
   "cell_type": "code",
   "execution_count": 15,
   "id": "3d3c6670-26a8-418a-942a-e085ed4173e3",
   "metadata": {},
   "outputs": [
    {
     "data": {
      "text/plain": [
       "166942"
      ]
     },
     "execution_count": 15,
     "metadata": {},
     "output_type": "execute_result"
    }
   ],
   "source": [
    "# Count the number of duplicates\n",
    "df['title'].duplicated().sum()"
   ]
  },
  {
   "cell_type": "code",
   "execution_count": 16,
   "id": "315a2821-5720-4c68-8e35-3737d4830c6d",
   "metadata": {},
   "outputs": [],
   "source": [
    "df = df.drop_duplicates(subset=['title'], keep='first')"
   ]
  },
  {
   "cell_type": "code",
   "execution_count": 17,
   "id": "d1307c31-24c3-4ee2-8825-6322c2012086",
   "metadata": {},
   "outputs": [
    {
     "data": {
      "text/html": [
       "<div>\n",
       "<style scoped>\n",
       "    .dataframe tbody tr th:only-of-type {\n",
       "        vertical-align: middle;\n",
       "    }\n",
       "\n",
       "    .dataframe tbody tr th {\n",
       "        vertical-align: top;\n",
       "    }\n",
       "\n",
       "    .dataframe thead th {\n",
       "        text-align: right;\n",
       "    }\n",
       "</style>\n",
       "<table border=\"1\" class=\"dataframe\">\n",
       "  <thead>\n",
       "    <tr style=\"text-align: right;\">\n",
       "      <th></th>\n",
       "      <th>title</th>\n",
       "      <th>overview</th>\n",
       "      <th>tags</th>\n",
       "    </tr>\n",
       "    <tr>\n",
       "      <th>id</th>\n",
       "      <th></th>\n",
       "      <th></th>\n",
       "      <th></th>\n",
       "    </tr>\n",
       "  </thead>\n",
       "  <tbody>\n",
       "  </tbody>\n",
       "</table>\n",
       "</div>"
      ],
      "text/plain": [
       "Empty DataFrame\n",
       "Columns: [title, overview, tags]\n",
       "Index: []"
      ]
     },
     "execution_count": 17,
     "metadata": {},
     "output_type": "execute_result"
    }
   ],
   "source": [
    "df[df['title'].duplicated()]"
   ]
  },
  {
   "cell_type": "code",
   "execution_count": 18,
   "id": "34bbdcaa-e205-4cbc-b353-e9a9641a6232",
   "metadata": {},
   "outputs": [
    {
     "data": {
      "text/plain": [
       "(921964, 3)"
      ]
     },
     "execution_count": 18,
     "metadata": {},
     "output_type": "execute_result"
    }
   ],
   "source": [
    "df.shape"
   ]
  },
  {
   "cell_type": "code",
   "execution_count": 19,
   "id": "20ab6622-f545-42f9-9356-d2263d21135a",
   "metadata": {},
   "outputs": [
    {
     "data": {
      "text/html": [
       "<div>\n",
       "<style scoped>\n",
       "    .dataframe tbody tr th:only-of-type {\n",
       "        vertical-align: middle;\n",
       "    }\n",
       "\n",
       "    .dataframe tbody tr th {\n",
       "        vertical-align: top;\n",
       "    }\n",
       "\n",
       "    .dataframe thead th {\n",
       "        text-align: right;\n",
       "    }\n",
       "</style>\n",
       "<table border=\"1\" class=\"dataframe\">\n",
       "  <thead>\n",
       "    <tr style=\"text-align: right;\">\n",
       "      <th></th>\n",
       "      <th>title</th>\n",
       "      <th>overview</th>\n",
       "      <th>tags</th>\n",
       "    </tr>\n",
       "    <tr>\n",
       "      <th>id</th>\n",
       "      <th></th>\n",
       "      <th></th>\n",
       "      <th></th>\n",
       "    </tr>\n",
       "  </thead>\n",
       "  <tbody>\n",
       "    <tr>\n",
       "      <th>2</th>\n",
       "      <td>Ariel</td>\n",
       "      <td>a finnish man goes to the city to find a job a...</td>\n",
       "      <td>[drama, comedy, akikaurismäki, turopajala, cri...</td>\n",
       "    </tr>\n",
       "    <tr>\n",
       "      <th>3</th>\n",
       "      <td>Shadows in Paradise</td>\n",
       "      <td>nikander, a rubbish collector and would-be ent...</td>\n",
       "      <td>[comedy, akikaurismäki, eskonikkari, mikakauri...</td>\n",
       "    </tr>\n",
       "    <tr>\n",
       "      <th>5</th>\n",
       "      <td>Four Rooms</td>\n",
       "      <td>it's ted the bellhop's first night on the job....</td>\n",
       "      <td>[quentintarantino, abandapart, allisonanders, ...</td>\n",
       "    </tr>\n",
       "    <tr>\n",
       "      <th>6</th>\n",
       "      <td>Judgment Night</td>\n",
       "      <td>four young friends, while taking a shortcut en...</td>\n",
       "      <td>[donovand.ross, michaelscranton, action, lloyd...</td>\n",
       "    </tr>\n",
       "    <tr>\n",
       "      <th>8</th>\n",
       "      <td>Life in Loops (A Megacities RMX)</td>\n",
       "      <td>timo novotny labels his new project an experim...</td>\n",
       "      <td>[documentary, timonovotny, michaelglawogger, u...</td>\n",
       "    </tr>\n",
       "  </tbody>\n",
       "</table>\n",
       "</div>"
      ],
      "text/plain": [
       "                               title                                           overview                                               tags\n",
       "id                                                                                                                                        \n",
       "2                              Ariel  a finnish man goes to the city to find a job a...  [drama, comedy, akikaurismäki, turopajala, cri...\n",
       "3                Shadows in Paradise  nikander, a rubbish collector and would-be ent...  [comedy, akikaurismäki, eskonikkari, mikakauri...\n",
       "5                         Four Rooms  it's ted the bellhop's first night on the job....  [quentintarantino, abandapart, allisonanders, ...\n",
       "6                     Judgment Night  four young friends, while taking a shortcut en...  [donovand.ross, michaelscranton, action, lloyd...\n",
       "8   Life in Loops (A Megacities RMX)  timo novotny labels his new project an experim...  [documentary, timonovotny, michaelglawogger, u..."
      ]
     },
     "execution_count": 19,
     "metadata": {},
     "output_type": "execute_result"
    }
   ],
   "source": [
    "df.head()"
   ]
  },
  {
   "cell_type": "code",
   "execution_count": 20,
   "id": "b3195a55-9b3a-4bc6-b376-e4680701a736",
   "metadata": {},
   "outputs": [
    {
     "data": {
      "text/plain": [
       "title       1\n",
       "overview    0\n",
       "tags        0\n",
       "dtype: int64"
      ]
     },
     "execution_count": 20,
     "metadata": {},
     "output_type": "execute_result"
    }
   ],
   "source": [
    "df.isnull().sum()"
   ]
  },
  {
   "cell_type": "code",
   "execution_count": 21,
   "id": "64452b9f-e93c-4dd5-8f46-42348f4f9321",
   "metadata": {},
   "outputs": [],
   "source": [
    "df.dropna(inplace=True)"
   ]
  },
  {
   "cell_type": "code",
   "execution_count": 22,
   "id": "89b9c80a-0fc6-4f24-895a-fc041aa95603",
   "metadata": {},
   "outputs": [
    {
     "data": {
      "text/html": [
       "<div>\n",
       "<style scoped>\n",
       "    .dataframe tbody tr th:only-of-type {\n",
       "        vertical-align: middle;\n",
       "    }\n",
       "\n",
       "    .dataframe tbody tr th {\n",
       "        vertical-align: top;\n",
       "    }\n",
       "\n",
       "    .dataframe thead th {\n",
       "        text-align: right;\n",
       "    }\n",
       "</style>\n",
       "<table border=\"1\" class=\"dataframe\">\n",
       "  <thead>\n",
       "    <tr style=\"text-align: right;\">\n",
       "      <th></th>\n",
       "      <th>title</th>\n",
       "      <th>overview</th>\n",
       "      <th>tags</th>\n",
       "    </tr>\n",
       "    <tr>\n",
       "      <th>id</th>\n",
       "      <th></th>\n",
       "      <th></th>\n",
       "      <th></th>\n",
       "    </tr>\n",
       "  </thead>\n",
       "  <tbody>\n",
       "    <tr>\n",
       "      <th>2</th>\n",
       "      <td>Ariel</td>\n",
       "      <td>a finnish man goes to the city to find a job a...</td>\n",
       "      <td>[drama, comedy, akikaurismäki, turopajala, cri...</td>\n",
       "    </tr>\n",
       "    <tr>\n",
       "      <th>3</th>\n",
       "      <td>Shadows in Paradise</td>\n",
       "      <td>nikander, a rubbish collector and would-be ent...</td>\n",
       "      <td>[comedy, akikaurismäki, eskonikkari, mikakauri...</td>\n",
       "    </tr>\n",
       "    <tr>\n",
       "      <th>5</th>\n",
       "      <td>Four Rooms</td>\n",
       "      <td>it's ted the bellhop's first night on the job....</td>\n",
       "      <td>[quentintarantino, abandapart, allisonanders, ...</td>\n",
       "    </tr>\n",
       "    <tr>\n",
       "      <th>6</th>\n",
       "      <td>Judgment Night</td>\n",
       "      <td>four young friends, while taking a shortcut en...</td>\n",
       "      <td>[donovand.ross, michaelscranton, action, lloyd...</td>\n",
       "    </tr>\n",
       "    <tr>\n",
       "      <th>8</th>\n",
       "      <td>Life in Loops (A Megacities RMX)</td>\n",
       "      <td>timo novotny labels his new project an experim...</td>\n",
       "      <td>[documentary, timonovotny, michaelglawogger, u...</td>\n",
       "    </tr>\n",
       "  </tbody>\n",
       "</table>\n",
       "</div>"
      ],
      "text/plain": [
       "                               title                                           overview                                               tags\n",
       "id                                                                                                                                        \n",
       "2                              Ariel  a finnish man goes to the city to find a job a...  [drama, comedy, akikaurismäki, turopajala, cri...\n",
       "3                Shadows in Paradise  nikander, a rubbish collector and would-be ent...  [comedy, akikaurismäki, eskonikkari, mikakauri...\n",
       "5                         Four Rooms  it's ted the bellhop's first night on the job....  [quentintarantino, abandapart, allisonanders, ...\n",
       "6                     Judgment Night  four young friends, while taking a shortcut en...  [donovand.ross, michaelscranton, action, lloyd...\n",
       "8   Life in Loops (A Megacities RMX)  timo novotny labels his new project an experim...  [documentary, timonovotny, michaelglawogger, u..."
      ]
     },
     "execution_count": 22,
     "metadata": {},
     "output_type": "execute_result"
    }
   ],
   "source": [
    "df.head()"
   ]
  },
  {
   "cell_type": "code",
   "execution_count": 23,
   "id": "4e18a3c5-82f4-487b-b163-417c84405929",
   "metadata": {},
   "outputs": [],
   "source": [
    "df=df[:30000]"
   ]
  },
  {
   "cell_type": "code",
   "execution_count": 24,
   "id": "186d1e55-1cea-4fdd-9423-cb1dc44bb01e",
   "metadata": {},
   "outputs": [
    {
     "name": "stderr",
     "output_type": "stream",
     "text": [
      "[nltk_data] Downloading package punkt to\n",
      "[nltk_data]     /Users/ethancoskay/nltk_data...\n",
      "[nltk_data]   Package punkt is already up-to-date!\n",
      "[nltk_data] Downloading package wordnet to\n",
      "[nltk_data]     /Users/ethancoskay/nltk_data...\n",
      "[nltk_data]   Package wordnet is already up-to-date!\n",
      "[nltk_data] Downloading package stopwords to\n",
      "[nltk_data]     /Users/ethancoskay/nltk_data...\n",
      "[nltk_data]   Package stopwords is already up-to-date!\n",
      "/Applications/anaconda3/lib/python3.11/site-packages/sklearn/feature_extraction/text.py:525: UserWarning: The parameter 'token_pattern' will not be used since 'tokenizer' is not None'\n",
      "  warnings.warn(\n"
     ]
    },
    {
     "name": "stdout",
     "output_type": "stream",
     "text": [
      "5000\n"
     ]
    }
   ],
   "source": [
    "from sklearn.feature_extraction.text import TfidfVectorizer\n",
    "from nltk.corpus import stopwords\n",
    "from nltk.stem import WordNetLemmatizer\n",
    "from nltk.tokenize import word_tokenize\n",
    "import nltk\n",
    "\n",
    "# Ensure necessary NLTK data is downloaded\n",
    "nltk.download('punkt')\n",
    "nltk.download('wordnet')\n",
    "nltk.download('stopwords')\n",
    "\n",
    "# Initialize lemmatizer and stop words\n",
    "lemmatizer = WordNetLemmatizer()\n",
    "stop_words = set(stopwords.words('english'))\n",
    "\n",
    "# Define custom tokenizer\n",
    "def lemmatize_and_remove_stopwords(text):\n",
    "    tokens = word_tokenize(text.lower())\n",
    "    lemmatized_tokens = [lemmatizer.lemmatize(token) for token in tokens]\n",
    "    filtered_tokens = [token for token in lemmatized_tokens if token not in stop_words]\n",
    "    return filtered_tokens\n",
    "\n",
    "# Initialize TfidfVectorizer with custom tokenizer\n",
    "vectorizer = TfidfVectorizer(tokenizer=lemmatize_and_remove_stopwords, max_features=5000)\n",
    "\n",
    "tfidf_matrix = vectorizer.fit_transform(df[\"overview\"])\n",
    "\n",
    "# To view the feature names\n",
    "print(len(vectorizer.get_feature_names_out()))\n"
   ]
  },
  {
   "cell_type": "code",
   "execution_count": 25,
   "id": "112be8ca-5eb6-440a-94b5-a92f008a06cf",
   "metadata": {},
   "outputs": [],
   "source": [
    "cosineSimilarities = linear_kernel(tfidf_matrix, tfidf_matrix)"
   ]
  },
  {
   "cell_type": "code",
   "execution_count": 26,
   "id": "ed1c5cbb-6e9e-43d2-bd52-bba11ca6b1c5",
   "metadata": {},
   "outputs": [
    {
     "name": "stdout",
     "output_type": "stream",
     "text": [
      "(30000, 30000)\n"
     ]
    }
   ],
   "source": [
    "print(cosineSimilarities.shape)"
   ]
  },
  {
   "cell_type": "code",
   "execution_count": 27,
   "id": "86abf0d0-e1ae-4f5a-bb0a-e98f9b239f38",
   "metadata": {},
   "outputs": [
    {
     "name": "stdout",
     "output_type": "stream",
     "text": [
      "['!' '#' '$' ... '“' '”' '•']\n"
     ]
    }
   ],
   "source": [
    "print(vectorizer.get_feature_names_out())"
   ]
  },
  {
   "cell_type": "code",
   "execution_count": 28,
   "id": "839b1017-52c2-44ad-96c7-a5a8ea704d05",
   "metadata": {},
   "outputs": [],
   "source": [
    "def combined_similarity(idx, cos_sim_matrix, df):\n",
    "    # Get the actual position of the given index\n",
    "    idx_pos = df.index.get_loc(idx)\n",
    "\n",
    "    results = []\n",
    "    for i in df.index:\n",
    "        i_pos = df.index.get_loc(i)\n",
    "\n",
    "        # Calculate similarities\n",
    "        jac = jaccard_similarity(df['tags'][idx], df['tags'][i])\n",
    "        cos = cos_sim_matrix[idx_pos][i_pos]\n",
    "\n",
    "        combined = (cos * 0.5 + jac * 0.5)\n",
    "        results.append((i, combined))  # i is the actual index label\n",
    "    \n",
    "    return sorted(results, key=lambda x: x[1], reverse=True)[:11]\n"
   ]
  },
  {
   "cell_type": "code",
   "execution_count": 29,
   "id": "df6ddd8b-6022-4f75-bdc5-6d4b1c8a7857",
   "metadata": {},
   "outputs": [],
   "source": [
    "recommendations = combined_similarity(idx=122, cos_sim_matrix=cosineSimilarities, df=df)"
   ]
  },
  {
   "cell_type": "code",
   "execution_count": 30,
   "id": "fe507f9a-eed4-4cae-97e0-8c77538b4c4b",
   "metadata": {},
   "outputs": [
    {
     "data": {
      "text/plain": [
       "[(122, 1.0000000000000002),\n",
       " (121, 0.45933886506834143),\n",
       " (120, 0.34786420019386455),\n",
       " (1361, 0.17857830684341777),\n",
       " (123, 0.177862407684454),\n",
       " (17832, 0.16533194457981748),\n",
       " (14763, 0.14137827344094783),\n",
       " (3040, 0.1360447804088222),\n",
       " (13194, 0.13187240739177963),\n",
       " (28058, 0.13171551020624744),\n",
       " (45678, 0.12972761206468014)]"
      ]
     },
     "execution_count": 30,
     "metadata": {},
     "output_type": "execute_result"
    }
   ],
   "source": [
    "recommendations"
   ]
  },
  {
   "cell_type": "code",
   "execution_count": 31,
   "id": "be594e94-ab91-4a0a-a9d9-674b958d36f3",
   "metadata": {},
   "outputs": [
    {
     "name": "stdout",
     "output_type": "stream",
     "text": [
      "The Lord of the Rings: The Return of the King\n",
      "The Lord of the Rings: The Two Towers\n",
      "The Lord of the Rings: The Fellowship of the Ring\n",
      "The Return of the King\n",
      "The Lord of the Rings\n",
      "Kull the Conqueror\n",
      "Shadowless Sword\n",
      "Night Watch\n",
      "Highlander: The Search for Vengeance\n",
      "Hercules in the Haunted World\n",
      "Hot News\n"
     ]
    }
   ],
   "source": [
    "for pair in recommendations:\n",
    "    print(df.loc[pair[0]].title)"
   ]
  },
  {
   "cell_type": "code",
   "execution_count": null,
   "id": "05a167e3-9612-4855-9269-5c07e8c2eb6c",
   "metadata": {},
   "outputs": [],
   "source": [
    "import pickle\n",
    "\n",
    "with open('cosine_sim_matrix.pkl', 'wb') as f:\n",
    "    pickle.dump(cosineSimilarities, f)"
   ]
  },
  {
   "cell_type": "code",
   "execution_count": null,
   "id": "5ab89094-d719-4596-be73-52114c19a953",
   "metadata": {},
   "outputs": [],
   "source": [
    "df.to_csv('movies.csv')"
   ]
  },
  {
   "cell_type": "code",
   "execution_count": null,
   "id": "45dc6b3c-09b7-49af-83b7-8f168c43b0ed",
   "metadata": {},
   "outputs": [],
   "source": []
  }
 ],
 "metadata": {
  "kernelspec": {
   "display_name": "Python 3 (ipykernel)",
   "language": "python",
   "name": "python3"
  },
  "language_info": {
   "codemirror_mode": {
    "name": "ipython",
    "version": 3
   },
   "file_extension": ".py",
   "mimetype": "text/x-python",
   "name": "python",
   "nbconvert_exporter": "python",
   "pygments_lexer": "ipython3",
   "version": "3.11.4"
  }
 },
 "nbformat": 4,
 "nbformat_minor": 5
}
