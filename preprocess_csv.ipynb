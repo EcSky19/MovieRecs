{
 "cells": [
  {
   "cell_type": "code",
   "execution_count": 1,
   "id": "5208ccae-abad-4334-84f3-8ddd9c77abec",
   "metadata": {},
   "outputs": [],
   "source": [
    "import os, json, re, stat, pathlib, base64\n",
    "import numpy as np\n",
    "import pandas as pd\n",
    "from sklearn.feature_extraction.text import TfidfVectorizer\n",
    "from sklearn.metrics.pairwise import linear_kernel\n",
    "from pathlib import Path"
   ]
  },
  {
   "cell_type": "code",
   "execution_count": 2,
   "id": "33bf57ae-e824-48dd-ac53-beb6860d5c9a",
   "metadata": {},
   "outputs": [],
   "source": [
    "pd.set_option('display.max_rows', 500)\n",
    "pd.set_option('display.max_columns', 500)\n",
    "pd.set_option('display.width', 1000)"
   ]
  },
  {
   "cell_type": "code",
   "execution_count": 3,
   "id": "093db1d6-9921-4882-8d24-b4134a9c504a",
   "metadata": {},
   "outputs": [],
   "source": [
    "def jaccard_similarity(list1, list2):\n",
    "    set1 = set(list1)\n",
    "    set2 = set(list2)\n",
    "    intersection = len(set1.intersection(set2))\n",
    "    union = len(set1.union(set2))\n",
    "    return float(intersection/union) if union !=0 else 0"
   ]
  },
  {
   "cell_type": "code",
   "execution_count": 59,
   "id": "832abdfe-b698-4097-b88c-4ed9cd136419",
   "metadata": {},
   "outputs": [
    {
     "data": {
      "text/html": [
       "<div>\n",
       "<style scoped>\n",
       "    .dataframe tbody tr th:only-of-type {\n",
       "        vertical-align: middle;\n",
       "    }\n",
       "\n",
       "    .dataframe tbody tr th {\n",
       "        vertical-align: top;\n",
       "    }\n",
       "\n",
       "    .dataframe thead th {\n",
       "        text-align: right;\n",
       "    }\n",
       "</style>\n",
       "<table border=\"1\" class=\"dataframe\">\n",
       "  <thead>\n",
       "    <tr style=\"text-align: right;\">\n",
       "      <th></th>\n",
       "      <th>id</th>\n",
       "      <th>title</th>\n",
       "      <th>vote_average</th>\n",
       "      <th>vote_count</th>\n",
       "      <th>status</th>\n",
       "      <th>release_date</th>\n",
       "      <th>revenue</th>\n",
       "      <th>runtime</th>\n",
       "      <th>budget</th>\n",
       "      <th>imdb_id</th>\n",
       "      <th>original_language</th>\n",
       "      <th>original_title</th>\n",
       "      <th>overview</th>\n",
       "      <th>popularity</th>\n",
       "      <th>tagline</th>\n",
       "      <th>genres</th>\n",
       "      <th>production_companies</th>\n",
       "      <th>production_countries</th>\n",
       "      <th>spoken_languages</th>\n",
       "      <th>cast</th>\n",
       "      <th>director</th>\n",
       "      <th>director_of_photography</th>\n",
       "      <th>writers</th>\n",
       "      <th>producers</th>\n",
       "      <th>music_composer</th>\n",
       "      <th>imdb_rating</th>\n",
       "      <th>imdb_votes</th>\n",
       "      <th>poster_path</th>\n",
       "    </tr>\n",
       "  </thead>\n",
       "  <tbody>\n",
       "    <tr>\n",
       "      <th>1088901</th>\n",
       "      <td>1473136</td>\n",
       "      <td>Will You Be My Cancer?</td>\n",
       "      <td>0.0</td>\n",
       "      <td>0.0</td>\n",
       "      <td>Released</td>\n",
       "      <td>NaN</td>\n",
       "      <td>0.0</td>\n",
       "      <td>0.0</td>\n",
       "      <td>0.0</td>\n",
       "      <td>NaN</td>\n",
       "      <td>en</td>\n",
       "      <td>Will You Be My Cancer?</td>\n",
       "      <td>NaN</td>\n",
       "      <td>0.0</td>\n",
       "      <td>NaN</td>\n",
       "      <td>NaN</td>\n",
       "      <td>NaN</td>\n",
       "      <td>NaN</td>\n",
       "      <td>NaN</td>\n",
       "      <td>NaN</td>\n",
       "      <td>NaN</td>\n",
       "      <td>NaN</td>\n",
       "      <td>NaN</td>\n",
       "      <td>NaN</td>\n",
       "      <td>NaN</td>\n",
       "      <td>NaN</td>\n",
       "      <td>NaN</td>\n",
       "      <td>NaN</td>\n",
       "    </tr>\n",
       "    <tr>\n",
       "      <th>1088902</th>\n",
       "      <td>1473137</td>\n",
       "      <td>Secret Bee</td>\n",
       "      <td>0.0</td>\n",
       "      <td>0.0</td>\n",
       "      <td>Released</td>\n",
       "      <td>NaN</td>\n",
       "      <td>0.0</td>\n",
       "      <td>2.0</td>\n",
       "      <td>0.0</td>\n",
       "      <td>NaN</td>\n",
       "      <td>en</td>\n",
       "      <td>Secret Bee</td>\n",
       "      <td>Secret Bee ventures toward the sweet honey- sp...</td>\n",
       "      <td>0.0</td>\n",
       "      <td>NaN</td>\n",
       "      <td>NaN</td>\n",
       "      <td>NaN</td>\n",
       "      <td>NaN</td>\n",
       "      <td>NaN</td>\n",
       "      <td>NaN</td>\n",
       "      <td>NaN</td>\n",
       "      <td>NaN</td>\n",
       "      <td>NaN</td>\n",
       "      <td>NaN</td>\n",
       "      <td>NaN</td>\n",
       "      <td>NaN</td>\n",
       "      <td>NaN</td>\n",
       "      <td>NaN</td>\n",
       "    </tr>\n",
       "    <tr>\n",
       "      <th>1088903</th>\n",
       "      <td>1473138</td>\n",
       "      <td>Sacrebleu</td>\n",
       "      <td>0.0</td>\n",
       "      <td>0.0</td>\n",
       "      <td>Released</td>\n",
       "      <td>NaN</td>\n",
       "      <td>0.0</td>\n",
       "      <td>0.0</td>\n",
       "      <td>0.0</td>\n",
       "      <td>tt2512636</td>\n",
       "      <td>en</td>\n",
       "      <td>Sacrebleu</td>\n",
       "      <td>NaN</td>\n",
       "      <td>0.0</td>\n",
       "      <td>NaN</td>\n",
       "      <td>NaN</td>\n",
       "      <td>NaN</td>\n",
       "      <td>NaN</td>\n",
       "      <td>NaN</td>\n",
       "      <td>NaN</td>\n",
       "      <td>NaN</td>\n",
       "      <td>NaN</td>\n",
       "      <td>NaN</td>\n",
       "      <td>NaN</td>\n",
       "      <td>NaN</td>\n",
       "      <td>6.4</td>\n",
       "      <td>12.0</td>\n",
       "      <td>NaN</td>\n",
       "    </tr>\n",
       "    <tr>\n",
       "      <th>1088904</th>\n",
       "      <td>2662126</td>\n",
       "      <td>NaN</td>\n",
       "      <td>NaN</td>\n",
       "      <td>NaN</td>\n",
       "      <td>NaN</td>\n",
       "      <td>NaN</td>\n",
       "      <td>NaN</td>\n",
       "      <td>NaN</td>\n",
       "      <td>NaN</td>\n",
       "      <td>NaN</td>\n",
       "      <td>NaN</td>\n",
       "      <td>NaN</td>\n",
       "      <td>NaN</td>\n",
       "      <td>NaN</td>\n",
       "      <td>NaN</td>\n",
       "      <td>NaN</td>\n",
       "      <td>NaN</td>\n",
       "      <td>NaN</td>\n",
       "      <td>NaN</td>\n",
       "      <td>Johannes Allmayer, Jules Waringo, Vicky Krieps...</td>\n",
       "      <td>Florian Gallenberger</td>\n",
       "      <td>Kolja Brandt</td>\n",
       "      <td>Florian Gallenberger, Torsten Wenzel, Tom Kinn...</td>\n",
       "      <td>Nicolas Steil, Benjamin Herrmann</td>\n",
       "      <td>NaN</td>\n",
       "      <td>NaN</td>\n",
       "      <td>NaN</td>\n",
       "      <td>NaN</td>\n",
       "    </tr>\n",
       "    <tr>\n",
       "      <th>1088905</th>\n",
       "      <td>5180730</td>\n",
       "      <td>NaN</td>\n",
       "      <td>NaN</td>\n",
       "      <td>NaN</td>\n",
       "      <td>NaN</td>\n",
       "      <td>NaN</td>\n",
       "      <td>NaN</td>\n",
       "      <td>NaN</td>\n",
       "      <td>NaN</td>\n",
       "      <td>NaN</td>\n",
       "      <td>NaN</td>\n",
       "      <td>NaN</td>\n",
       "      <td>NaN</td>\n",
       "      <td>NaN</td>\n",
       "      <td>NaN</td>\n",
       "      <td>NaN</td>\n",
       "      <td>NaN</td>\n",
       "      <td>NaN</td>\n",
       "      <td>NaN</td>\n",
       "      <td>Hailee Steinfeld, Tim Martin Gleason, Holland ...</td>\n",
       "      <td>Travis Knight</td>\n",
       "      <td>Enrique Chediak</td>\n",
       "      <td>Christina Hodson, Shoji Kawamori</td>\n",
       "      <td>Chris Brigham, Stephen Davis, Don Murphy, Bria...</td>\n",
       "      <td>Dario Marianelli</td>\n",
       "      <td>NaN</td>\n",
       "      <td>NaN</td>\n",
       "      <td>NaN</td>\n",
       "    </tr>\n",
       "  </tbody>\n",
       "</table>\n",
       "</div>"
      ],
      "text/plain": [
       "              id                   title  vote_average  vote_count    status release_date  revenue  runtime  budget    imdb_id original_language          original_title                                           overview  popularity tagline genres production_companies production_countries spoken_languages                                               cast              director director_of_photography                                            writers                                          producers    music_composer  imdb_rating  imdb_votes poster_path\n",
       "1088901  1473136  Will You Be My Cancer?           0.0         0.0  Released          NaN      0.0      0.0     0.0        NaN                en  Will You Be My Cancer?                                                NaN         0.0     NaN    NaN                  NaN                  NaN              NaN                                                NaN                   NaN                     NaN                                                NaN                                                NaN               NaN          NaN         NaN         NaN\n",
       "1088902  1473137              Secret Bee           0.0         0.0  Released          NaN      0.0      2.0     0.0        NaN                en              Secret Bee  Secret Bee ventures toward the sweet honey- sp...         0.0     NaN    NaN                  NaN                  NaN              NaN                                                NaN                   NaN                     NaN                                                NaN                                                NaN               NaN          NaN         NaN         NaN\n",
       "1088903  1473138               Sacrebleu           0.0         0.0  Released          NaN      0.0      0.0     0.0  tt2512636                en               Sacrebleu                                                NaN         0.0     NaN    NaN                  NaN                  NaN              NaN                                                NaN                   NaN                     NaN                                                NaN                                                NaN               NaN          6.4        12.0         NaN\n",
       "1088904  2662126                     NaN           NaN         NaN       NaN          NaN      NaN      NaN     NaN        NaN               NaN                     NaN                                                NaN         NaN     NaN    NaN                  NaN                  NaN              NaN  Johannes Allmayer, Jules Waringo, Vicky Krieps...  Florian Gallenberger            Kolja Brandt  Florian Gallenberger, Torsten Wenzel, Tom Kinn...                   Nicolas Steil, Benjamin Herrmann               NaN          NaN         NaN         NaN\n",
       "1088905  5180730                     NaN           NaN         NaN       NaN          NaN      NaN      NaN     NaN        NaN               NaN                     NaN                                                NaN         NaN     NaN    NaN                  NaN                  NaN              NaN  Hailee Steinfeld, Tim Martin Gleason, Holland ...         Travis Knight         Enrique Chediak                   Christina Hodson, Shoji Kawamori  Chris Brigham, Stephen Davis, Don Murphy, Bria...  Dario Marianelli          NaN         NaN         NaN"
      ]
     },
     "execution_count": 59,
     "metadata": {},
     "output_type": "execute_result"
    }
   ],
   "source": [
    "DATA_PATH = \"/Users/ethancoskay/projects/MovieRecs/data/TMDB_all_movies.csv\"\n",
    "df_main = pd.read_csv(DATA_PATH)\n",
    "df_main.head()\n",
    "df_main.tail()"
   ]
  },
  {
   "cell_type": "code",
   "execution_count": 56,
   "id": "e980b525-d10a-44be-95a8-3db664670fd3",
   "metadata": {},
   "outputs": [],
   "source": [
    "\n",
    "df2 = df_main[['id', 'title', 'overview', 'genres', 'cast', 'director', 'imdb_rating', 'release_date']]\n",
    "df = df_main[['id', 'title', 'overview', 'genres', 'cast', 'director', 'writers', 'imdb_rating']]\n",
    "df2.to_pickle('all_movies.pkl')"
   ]
  },
  {
   "cell_type": "code",
   "execution_count": 26,
   "id": "f8c26309-4bbf-4603-9d7d-baaa093caf55",
   "metadata": {},
   "outputs": [
    {
     "name": "stderr",
     "output_type": "stream",
     "text": [
      "/var/folders/39/8v7z_shs5qd71d5q4_6m776w0000gn/T/ipykernel_9895/3294047156.py:3: SettingWithCopyWarning: \n",
      "A value is trying to be set on a copy of a slice from a DataFrame.\n",
      "Try using .loc[row_indexer,col_indexer] = value instead\n",
      "\n",
      "See the caveats in the documentation: https://pandas.pydata.org/pandas-docs/stable/user_guide/indexing.html#returning-a-view-versus-a-copy\n",
      "  df[col] = df[col].fillna('').str.lower().str.replace(r\"\\s+\", \"\", regex=True).str.split(\",\")\n",
      "/var/folders/39/8v7z_shs5qd71d5q4_6m776w0000gn/T/ipykernel_9895/3294047156.py:4: SettingWithCopyWarning: \n",
      "A value is trying to be set on a copy of a slice from a DataFrame.\n",
      "Try using .loc[row_indexer,col_indexer] = value instead\n",
      "\n",
      "See the caveats in the documentation: https://pandas.pydata.org/pandas-docs/stable/user_guide/indexing.html#returning-a-view-versus-a-copy\n",
      "  df[col] = df[col].apply(lambda x: x[:4] if len(x)>4 else x)\n",
      "/var/folders/39/8v7z_shs5qd71d5q4_6m776w0000gn/T/ipykernel_9895/3294047156.py:7: SettingWithCopyWarning: \n",
      "A value is trying to be set on a copy of a slice from a DataFrame.\n",
      "Try using .loc[row_indexer,col_indexer] = value instead\n",
      "\n",
      "See the caveats in the documentation: https://pandas.pydata.org/pandas-docs/stable/user_guide/indexing.html#returning-a-view-versus-a-copy\n",
      "  df[\"overview\"] = df[\"overview\"].fillna('').str.lower()\n"
     ]
    }
   ],
   "source": [
    "cols_to_lower = ['director', 'writers', 'cast', 'genres']\n",
    "for col in cols_to_lower:\n",
    "    df[col] = df[col].fillna('').str.lower().str.replace(r\"\\s+\", \"\", regex=True).str.split(\",\")\n",
    "    df[col] = df[col].apply(lambda x: x[:4] if len(x)>4 else x)\n",
    "\n",
    "\n",
    "df[\"overview\"] = df[\"overview\"].fillna('').str.lower()"
   ]
  },
  {
   "cell_type": "code",
   "execution_count": 27,
   "id": "162f8aef-097b-4cdf-a2e1-f96704a615e9",
   "metadata": {},
   "outputs": [
    {
     "data": {
      "text/html": [
       "<div>\n",
       "<style scoped>\n",
       "    .dataframe tbody tr th:only-of-type {\n",
       "        vertical-align: middle;\n",
       "    }\n",
       "\n",
       "    .dataframe tbody tr th {\n",
       "        vertical-align: top;\n",
       "    }\n",
       "\n",
       "    .dataframe thead th {\n",
       "        text-align: right;\n",
       "    }\n",
       "</style>\n",
       "<table border=\"1\" class=\"dataframe\">\n",
       "  <thead>\n",
       "    <tr style=\"text-align: right;\">\n",
       "      <th></th>\n",
       "      <th>id</th>\n",
       "      <th>title</th>\n",
       "      <th>overview</th>\n",
       "      <th>genres</th>\n",
       "      <th>cast</th>\n",
       "      <th>director</th>\n",
       "      <th>writers</th>\n",
       "      <th>imdb_rating</th>\n",
       "    </tr>\n",
       "  </thead>\n",
       "  <tbody>\n",
       "    <tr>\n",
       "      <th>0</th>\n",
       "      <td>2</td>\n",
       "      <td>Ariel</td>\n",
       "      <td>a finnish man goes to the city to find a job a...</td>\n",
       "      <td>[comedy, drama, romance, crime]</td>\n",
       "      <td>[merjapulkkinen, eetuhilkamo, turopajala, esko...</td>\n",
       "      <td>[akikaurismäki]</td>\n",
       "      <td>[akikaurismäki]</td>\n",
       "      <td>7.4</td>\n",
       "    </tr>\n",
       "    <tr>\n",
       "      <th>1</th>\n",
       "      <td>3</td>\n",
       "      <td>Shadows in Paradise</td>\n",
       "      <td>nikander, a rubbish collector and would-be ent...</td>\n",
       "      <td>[comedy, drama, romance]</td>\n",
       "      <td>[eskonikkari, marirantasila, marinamartinoff, ...</td>\n",
       "      <td>[akikaurismäki]</td>\n",
       "      <td>[akikaurismäki]</td>\n",
       "      <td>7.4</td>\n",
       "    </tr>\n",
       "    <tr>\n",
       "      <th>2</th>\n",
       "      <td>5</td>\n",
       "      <td>Four Rooms</td>\n",
       "      <td>it's ted the bellhop's first night on the job....</td>\n",
       "      <td>[comedy, crime]</td>\n",
       "      <td>[quinnhellerman, lawrencebender, timroth, lana...</td>\n",
       "      <td>[allisonanders, robertrodriguez, alexandrerock...</td>\n",
       "      <td>[allisonanders, robertrodriguez, alexandrerock...</td>\n",
       "      <td>6.7</td>\n",
       "    </tr>\n",
       "    <tr>\n",
       "      <th>3</th>\n",
       "      <td>6</td>\n",
       "      <td>Judgment Night</td>\n",
       "      <td>four young friends, while taking a shortcut en...</td>\n",
       "      <td>[action, crime, thriller]</td>\n",
       "      <td>[michaelscranton, hankmcgill, donovand.ross, n...</td>\n",
       "      <td>[stephenhopkins]</td>\n",
       "      <td>[jerecunningham, lewiscolick]</td>\n",
       "      <td>6.6</td>\n",
       "    </tr>\n",
       "    <tr>\n",
       "      <th>4</th>\n",
       "      <td>8</td>\n",
       "      <td>Life in Loops (A Megacities RMX)</td>\n",
       "      <td>timo novotny labels his new project an experim...</td>\n",
       "      <td>[documentary]</td>\n",
       "      <td>[]</td>\n",
       "      <td>[timonovotny]</td>\n",
       "      <td>[michaelglawogger, timonovotny]</td>\n",
       "      <td>8.2</td>\n",
       "    </tr>\n",
       "  </tbody>\n",
       "</table>\n",
       "</div>"
      ],
      "text/plain": [
       "   id                             title                                           overview                           genres                                               cast                                           director                                            writers  imdb_rating\n",
       "0   2                             Ariel  a finnish man goes to the city to find a job a...  [comedy, drama, romance, crime]  [merjapulkkinen, eetuhilkamo, turopajala, esko...                                    [akikaurismäki]                                    [akikaurismäki]          7.4\n",
       "1   3               Shadows in Paradise  nikander, a rubbish collector and would-be ent...         [comedy, drama, romance]  [eskonikkari, marirantasila, marinamartinoff, ...                                    [akikaurismäki]                                    [akikaurismäki]          7.4\n",
       "2   5                        Four Rooms  it's ted the bellhop's first night on the job....                  [comedy, crime]  [quinnhellerman, lawrencebender, timroth, lana...  [allisonanders, robertrodriguez, alexandrerock...  [allisonanders, robertrodriguez, alexandrerock...          6.7\n",
       "3   6                    Judgment Night  four young friends, while taking a shortcut en...        [action, crime, thriller]  [michaelscranton, hankmcgill, donovand.ross, n...                                   [stephenhopkins]                      [jerecunningham, lewiscolick]          6.6\n",
       "4   8  Life in Loops (A Megacities RMX)  timo novotny labels his new project an experim...                    [documentary]                                                 []                                      [timonovotny]                    [michaelglawogger, timonovotny]          8.2"
      ]
     },
     "execution_count": 27,
     "metadata": {},
     "output_type": "execute_result"
    }
   ],
   "source": [
    "df.head()"
   ]
  },
  {
   "cell_type": "code",
   "execution_count": 28,
   "id": "c14035ea-6daa-4f2c-821f-238428dadbfa",
   "metadata": {},
   "outputs": [
    {
     "data": {
      "text/plain": [
       "['merjapulkkinen', 'eetuhilkamo', 'turopajala', 'eskosalminen']"
      ]
     },
     "execution_count": 28,
     "metadata": {},
     "output_type": "execute_result"
    }
   ],
   "source": [
    "df.cast[0]"
   ]
  },
  {
   "cell_type": "code",
   "execution_count": 29,
   "id": "3c810d20-eefa-48af-b3af-7cf14491be13",
   "metadata": {},
   "outputs": [
    {
     "name": "stderr",
     "output_type": "stream",
     "text": [
      "/var/folders/39/8v7z_shs5qd71d5q4_6m776w0000gn/T/ipykernel_9895/436728637.py:11: SettingWithCopyWarning: \n",
      "A value is trying to be set on a copy of a slice from a DataFrame.\n",
      "Try using .loc[row_indexer,col_indexer] = value instead\n",
      "\n",
      "See the caveats in the documentation: https://pandas.pydata.org/pandas-docs/stable/user_guide/indexing.html#returning-a-view-versus-a-copy\n",
      "  df['tags'] = df.apply(merge_and_unique, axis=1)\n"
     ]
    }
   ],
   "source": [
    "cols_to_merge = ['director', 'writers', 'cast', 'genres']\n",
    "\n",
    "# Function to join lists from multiple columns, convert to set (for uniqueness), then back to list\n",
    "def merge_and_unique(row):\n",
    "    combined = []\n",
    "    for col in cols_to_merge:\n",
    "        combined.extend(row[col])  # Add the list from each column to combined list\n",
    "    return list(set(combined))  # Convert to set for uniqueness, then back to list\n",
    "\n",
    "# Apply the function to each row\n",
    "df['tags'] = df.apply(merge_and_unique, axis=1)"
   ]
  },
  {
   "cell_type": "code",
   "execution_count": 30,
   "id": "079e4548-bab9-4155-8c2c-6a95ac2cd89b",
   "metadata": {},
   "outputs": [
    {
     "name": "stderr",
     "output_type": "stream",
     "text": [
      "/var/folders/39/8v7z_shs5qd71d5q4_6m776w0000gn/T/ipykernel_9895/708697862.py:1: SettingWithCopyWarning: \n",
      "A value is trying to be set on a copy of a slice from a DataFrame\n",
      "\n",
      "See the caveats in the documentation: https://pandas.pydata.org/pandas-docs/stable/user_guide/indexing.html#returning-a-view-versus-a-copy\n",
      "  df.drop(columns=cols_to_merge, inplace=True)\n"
     ]
    }
   ],
   "source": [
    "df.drop(columns=cols_to_merge, inplace=True)"
   ]
  },
  {
   "cell_type": "code",
   "execution_count": 31,
   "id": "116f4105-40e0-4141-9e68-162988a483c1",
   "metadata": {},
   "outputs": [],
   "source": [
    "df.set_index('id', inplace=True)"
   ]
  },
  {
   "cell_type": "code",
   "execution_count": 32,
   "id": "06d96bc8-42d3-46e2-b46e-ef040c92e1ec",
   "metadata": {},
   "outputs": [
    {
     "data": {
      "text/html": [
       "<div>\n",
       "<style scoped>\n",
       "    .dataframe tbody tr th:only-of-type {\n",
       "        vertical-align: middle;\n",
       "    }\n",
       "\n",
       "    .dataframe tbody tr th {\n",
       "        vertical-align: top;\n",
       "    }\n",
       "\n",
       "    .dataframe thead th {\n",
       "        text-align: right;\n",
       "    }\n",
       "</style>\n",
       "<table border=\"1\" class=\"dataframe\">\n",
       "  <thead>\n",
       "    <tr style=\"text-align: right;\">\n",
       "      <th></th>\n",
       "      <th>title</th>\n",
       "      <th>overview</th>\n",
       "      <th>imdb_rating</th>\n",
       "      <th>tags</th>\n",
       "    </tr>\n",
       "    <tr>\n",
       "      <th>id</th>\n",
       "      <th></th>\n",
       "      <th></th>\n",
       "      <th></th>\n",
       "      <th></th>\n",
       "    </tr>\n",
       "  </thead>\n",
       "  <tbody>\n",
       "    <tr>\n",
       "      <th>2</th>\n",
       "      <td>Ariel</td>\n",
       "      <td>a finnish man goes to the city to find a job a...</td>\n",
       "      <td>7.4</td>\n",
       "      <td>[comedy, merjapulkkinen, romance, eetuhilkamo,...</td>\n",
       "    </tr>\n",
       "    <tr>\n",
       "      <th>3</th>\n",
       "      <td>Shadows in Paradise</td>\n",
       "      <td>nikander, a rubbish collector and would-be ent...</td>\n",
       "      <td>7.4</td>\n",
       "      <td>[jukka-pekkapalo, romance, marirantasila, esko...</td>\n",
       "    </tr>\n",
       "    <tr>\n",
       "      <th>5</th>\n",
       "      <td>Four Rooms</td>\n",
       "      <td>it's ted the bellhop's first night on the job....</td>\n",
       "      <td>6.7</td>\n",
       "      <td>[robertrodriguez, quinnhellerman, quentintaran...</td>\n",
       "    </tr>\n",
       "    <tr>\n",
       "      <th>6</th>\n",
       "      <td>Judgment Night</td>\n",
       "      <td>four young friends, while taking a shortcut en...</td>\n",
       "      <td>6.6</td>\n",
       "      <td>[lewiscolick, thriller, donovand.ross, nigelgi...</td>\n",
       "    </tr>\n",
       "    <tr>\n",
       "      <th>8</th>\n",
       "      <td>Life in Loops (A Megacities RMX)</td>\n",
       "      <td>timo novotny labels his new project an experim...</td>\n",
       "      <td>8.2</td>\n",
       "      <td>[, documentary, michaelglawogger, timonovotny]</td>\n",
       "    </tr>\n",
       "  </tbody>\n",
       "</table>\n",
       "</div>"
      ],
      "text/plain": [
       "                               title                                           overview  imdb_rating                                               tags\n",
       "id                                                                                                                                                     \n",
       "2                              Ariel  a finnish man goes to the city to find a job a...          7.4  [comedy, merjapulkkinen, romance, eetuhilkamo,...\n",
       "3                Shadows in Paradise  nikander, a rubbish collector and would-be ent...          7.4  [jukka-pekkapalo, romance, marirantasila, esko...\n",
       "5                         Four Rooms  it's ted the bellhop's first night on the job....          6.7  [robertrodriguez, quinnhellerman, quentintaran...\n",
       "6                     Judgment Night  four young friends, while taking a shortcut en...          6.6  [lewiscolick, thriller, donovand.ross, nigelgi...\n",
       "8   Life in Loops (A Megacities RMX)  timo novotny labels his new project an experim...          8.2     [, documentary, michaelglawogger, timonovotny]"
      ]
     },
     "execution_count": 32,
     "metadata": {},
     "output_type": "execute_result"
    }
   ],
   "source": [
    "df.head()"
   ]
  },
  {
   "cell_type": "code",
   "execution_count": 33,
   "id": "277a47d2-b50a-4c85-8ca6-7e4c1940ce09",
   "metadata": {},
   "outputs": [
    {
     "name": "stderr",
     "output_type": "stream",
     "text": [
      "/var/folders/39/8v7z_shs5qd71d5q4_6m776w0000gn/T/ipykernel_9895/1518854655.py:1: SettingWithCopyWarning: \n",
      "A value is trying to be set on a copy of a slice from a DataFrame.\n",
      "Try using .loc[row_indexer,col_indexer] = value instead\n",
      "\n",
      "See the caveats in the documentation: https://pandas.pydata.org/pandas-docs/stable/user_guide/indexing.html#returning-a-view-versus-a-copy\n",
      "  df['tags'] = df['tags'].apply(lambda x: [item for item in x if item != ''] if isinstance(x, list) else x)\n"
     ]
    },
    {
     "data": {
      "text/html": [
       "<div>\n",
       "<style scoped>\n",
       "    .dataframe tbody tr th:only-of-type {\n",
       "        vertical-align: middle;\n",
       "    }\n",
       "\n",
       "    .dataframe tbody tr th {\n",
       "        vertical-align: top;\n",
       "    }\n",
       "\n",
       "    .dataframe thead th {\n",
       "        text-align: right;\n",
       "    }\n",
       "</style>\n",
       "<table border=\"1\" class=\"dataframe\">\n",
       "  <thead>\n",
       "    <tr style=\"text-align: right;\">\n",
       "      <th></th>\n",
       "      <th>title</th>\n",
       "      <th>overview</th>\n",
       "      <th>imdb_rating</th>\n",
       "      <th>tags</th>\n",
       "    </tr>\n",
       "    <tr>\n",
       "      <th>id</th>\n",
       "      <th></th>\n",
       "      <th></th>\n",
       "      <th></th>\n",
       "      <th></th>\n",
       "    </tr>\n",
       "  </thead>\n",
       "  <tbody>\n",
       "    <tr>\n",
       "      <th>2</th>\n",
       "      <td>Ariel</td>\n",
       "      <td>a finnish man goes to the city to find a job a...</td>\n",
       "      <td>7.4</td>\n",
       "      <td>[comedy, merjapulkkinen, romance, eetuhilkamo,...</td>\n",
       "    </tr>\n",
       "    <tr>\n",
       "      <th>3</th>\n",
       "      <td>Shadows in Paradise</td>\n",
       "      <td>nikander, a rubbish collector and would-be ent...</td>\n",
       "      <td>7.4</td>\n",
       "      <td>[jukka-pekkapalo, romance, marirantasila, esko...</td>\n",
       "    </tr>\n",
       "    <tr>\n",
       "      <th>5</th>\n",
       "      <td>Four Rooms</td>\n",
       "      <td>it's ted the bellhop's first night on the job....</td>\n",
       "      <td>6.7</td>\n",
       "      <td>[robertrodriguez, quinnhellerman, quentintaran...</td>\n",
       "    </tr>\n",
       "    <tr>\n",
       "      <th>6</th>\n",
       "      <td>Judgment Night</td>\n",
       "      <td>four young friends, while taking a shortcut en...</td>\n",
       "      <td>6.6</td>\n",
       "      <td>[lewiscolick, thriller, donovand.ross, nigelgi...</td>\n",
       "    </tr>\n",
       "    <tr>\n",
       "      <th>8</th>\n",
       "      <td>Life in Loops (A Megacities RMX)</td>\n",
       "      <td>timo novotny labels his new project an experim...</td>\n",
       "      <td>8.2</td>\n",
       "      <td>[documentary, michaelglawogger, timonovotny]</td>\n",
       "    </tr>\n",
       "  </tbody>\n",
       "</table>\n",
       "</div>"
      ],
      "text/plain": [
       "                               title                                           overview  imdb_rating                                               tags\n",
       "id                                                                                                                                                     \n",
       "2                              Ariel  a finnish man goes to the city to find a job a...          7.4  [comedy, merjapulkkinen, romance, eetuhilkamo,...\n",
       "3                Shadows in Paradise  nikander, a rubbish collector and would-be ent...          7.4  [jukka-pekkapalo, romance, marirantasila, esko...\n",
       "5                         Four Rooms  it's ted the bellhop's first night on the job....          6.7  [robertrodriguez, quinnhellerman, quentintaran...\n",
       "6                     Judgment Night  four young friends, while taking a shortcut en...          6.6  [lewiscolick, thriller, donovand.ross, nigelgi...\n",
       "8   Life in Loops (A Megacities RMX)  timo novotny labels his new project an experim...          8.2       [documentary, michaelglawogger, timonovotny]"
      ]
     },
     "execution_count": 33,
     "metadata": {},
     "output_type": "execute_result"
    }
   ],
   "source": [
    "df['tags'] = df['tags'].apply(lambda x: [item for item in x if item != ''] if isinstance(x, list) else x)\n",
    "df.head()"
   ]
  },
  {
   "cell_type": "code",
   "execution_count": 34,
   "id": "fb49d8ae-68a6-420c-921b-e1aecb8d58dc",
   "metadata": {},
   "outputs": [
    {
     "data": {
      "text/plain": [
       "['documentary', 'michaelglawogger', 'timonovotny']"
      ]
     },
     "execution_count": 34,
     "metadata": {},
     "output_type": "execute_result"
    }
   ],
   "source": [
    "df[\"tags\"][8]"
   ]
  },
  {
   "cell_type": "code",
   "execution_count": 35,
   "id": "3d3c6670-26a8-418a-942a-e085ed4173e3",
   "metadata": {},
   "outputs": [
    {
     "data": {
      "text/plain": [
       "166942"
      ]
     },
     "execution_count": 35,
     "metadata": {},
     "output_type": "execute_result"
    }
   ],
   "source": [
    "# Count the number of duplicates\n",
    "df['title'].duplicated().sum()"
   ]
  },
  {
   "cell_type": "code",
   "execution_count": 36,
   "id": "315a2821-5720-4c68-8e35-3737d4830c6d",
   "metadata": {},
   "outputs": [],
   "source": [
    "df = df.drop_duplicates(subset=['title'], keep='first')"
   ]
  },
  {
   "cell_type": "code",
   "execution_count": 37,
   "id": "d1307c31-24c3-4ee2-8825-6322c2012086",
   "metadata": {},
   "outputs": [
    {
     "data": {
      "text/html": [
       "<div>\n",
       "<style scoped>\n",
       "    .dataframe tbody tr th:only-of-type {\n",
       "        vertical-align: middle;\n",
       "    }\n",
       "\n",
       "    .dataframe tbody tr th {\n",
       "        vertical-align: top;\n",
       "    }\n",
       "\n",
       "    .dataframe thead th {\n",
       "        text-align: right;\n",
       "    }\n",
       "</style>\n",
       "<table border=\"1\" class=\"dataframe\">\n",
       "  <thead>\n",
       "    <tr style=\"text-align: right;\">\n",
       "      <th></th>\n",
       "      <th>title</th>\n",
       "      <th>overview</th>\n",
       "      <th>imdb_rating</th>\n",
       "      <th>tags</th>\n",
       "    </tr>\n",
       "    <tr>\n",
       "      <th>id</th>\n",
       "      <th></th>\n",
       "      <th></th>\n",
       "      <th></th>\n",
       "      <th></th>\n",
       "    </tr>\n",
       "  </thead>\n",
       "  <tbody>\n",
       "  </tbody>\n",
       "</table>\n",
       "</div>"
      ],
      "text/plain": [
       "Empty DataFrame\n",
       "Columns: [title, overview, imdb_rating, tags]\n",
       "Index: []"
      ]
     },
     "execution_count": 37,
     "metadata": {},
     "output_type": "execute_result"
    }
   ],
   "source": [
    "df[df['title'].duplicated()]"
   ]
  },
  {
   "cell_type": "code",
   "execution_count": 38,
   "id": "34bbdcaa-e205-4cbc-b353-e9a9641a6232",
   "metadata": {},
   "outputs": [
    {
     "data": {
      "text/plain": [
       "(921964, 4)"
      ]
     },
     "execution_count": 38,
     "metadata": {},
     "output_type": "execute_result"
    }
   ],
   "source": [
    "df.shape"
   ]
  },
  {
   "cell_type": "code",
   "execution_count": 39,
   "id": "20ab6622-f545-42f9-9356-d2263d21135a",
   "metadata": {},
   "outputs": [
    {
     "data": {
      "text/html": [
       "<div>\n",
       "<style scoped>\n",
       "    .dataframe tbody tr th:only-of-type {\n",
       "        vertical-align: middle;\n",
       "    }\n",
       "\n",
       "    .dataframe tbody tr th {\n",
       "        vertical-align: top;\n",
       "    }\n",
       "\n",
       "    .dataframe thead th {\n",
       "        text-align: right;\n",
       "    }\n",
       "</style>\n",
       "<table border=\"1\" class=\"dataframe\">\n",
       "  <thead>\n",
       "    <tr style=\"text-align: right;\">\n",
       "      <th></th>\n",
       "      <th>title</th>\n",
       "      <th>overview</th>\n",
       "      <th>imdb_rating</th>\n",
       "      <th>tags</th>\n",
       "    </tr>\n",
       "    <tr>\n",
       "      <th>id</th>\n",
       "      <th></th>\n",
       "      <th></th>\n",
       "      <th></th>\n",
       "      <th></th>\n",
       "    </tr>\n",
       "  </thead>\n",
       "  <tbody>\n",
       "    <tr>\n",
       "      <th>2</th>\n",
       "      <td>Ariel</td>\n",
       "      <td>a finnish man goes to the city to find a job a...</td>\n",
       "      <td>7.4</td>\n",
       "      <td>[comedy, merjapulkkinen, romance, eetuhilkamo,...</td>\n",
       "    </tr>\n",
       "    <tr>\n",
       "      <th>3</th>\n",
       "      <td>Shadows in Paradise</td>\n",
       "      <td>nikander, a rubbish collector and would-be ent...</td>\n",
       "      <td>7.4</td>\n",
       "      <td>[jukka-pekkapalo, romance, marirantasila, esko...</td>\n",
       "    </tr>\n",
       "    <tr>\n",
       "      <th>5</th>\n",
       "      <td>Four Rooms</td>\n",
       "      <td>it's ted the bellhop's first night on the job....</td>\n",
       "      <td>6.7</td>\n",
       "      <td>[robertrodriguez, quinnhellerman, quentintaran...</td>\n",
       "    </tr>\n",
       "    <tr>\n",
       "      <th>6</th>\n",
       "      <td>Judgment Night</td>\n",
       "      <td>four young friends, while taking a shortcut en...</td>\n",
       "      <td>6.6</td>\n",
       "      <td>[lewiscolick, thriller, donovand.ross, nigelgi...</td>\n",
       "    </tr>\n",
       "    <tr>\n",
       "      <th>8</th>\n",
       "      <td>Life in Loops (A Megacities RMX)</td>\n",
       "      <td>timo novotny labels his new project an experim...</td>\n",
       "      <td>8.2</td>\n",
       "      <td>[documentary, michaelglawogger, timonovotny]</td>\n",
       "    </tr>\n",
       "  </tbody>\n",
       "</table>\n",
       "</div>"
      ],
      "text/plain": [
       "                               title                                           overview  imdb_rating                                               tags\n",
       "id                                                                                                                                                     \n",
       "2                              Ariel  a finnish man goes to the city to find a job a...          7.4  [comedy, merjapulkkinen, romance, eetuhilkamo,...\n",
       "3                Shadows in Paradise  nikander, a rubbish collector and would-be ent...          7.4  [jukka-pekkapalo, romance, marirantasila, esko...\n",
       "5                         Four Rooms  it's ted the bellhop's first night on the job....          6.7  [robertrodriguez, quinnhellerman, quentintaran...\n",
       "6                     Judgment Night  four young friends, while taking a shortcut en...          6.6  [lewiscolick, thriller, donovand.ross, nigelgi...\n",
       "8   Life in Loops (A Megacities RMX)  timo novotny labels his new project an experim...          8.2       [documentary, michaelglawogger, timonovotny]"
      ]
     },
     "execution_count": 39,
     "metadata": {},
     "output_type": "execute_result"
    }
   ],
   "source": [
    "df.head()"
   ]
  },
  {
   "cell_type": "code",
   "execution_count": 40,
   "id": "b3195a55-9b3a-4bc6-b376-e4680701a736",
   "metadata": {},
   "outputs": [
    {
     "data": {
      "text/plain": [
       "title               1\n",
       "overview            0\n",
       "imdb_rating    543892\n",
       "tags                0\n",
       "dtype: int64"
      ]
     },
     "execution_count": 40,
     "metadata": {},
     "output_type": "execute_result"
    }
   ],
   "source": [
    "df.isnull().sum()"
   ]
  },
  {
   "cell_type": "code",
   "execution_count": 41,
   "id": "64452b9f-e93c-4dd5-8f46-42348f4f9321",
   "metadata": {},
   "outputs": [],
   "source": [
    "df.dropna(inplace=True)"
   ]
  },
  {
   "cell_type": "code",
   "execution_count": 42,
   "id": "89b9c80a-0fc6-4f24-895a-fc041aa95603",
   "metadata": {},
   "outputs": [
    {
     "data": {
      "text/html": [
       "<div>\n",
       "<style scoped>\n",
       "    .dataframe tbody tr th:only-of-type {\n",
       "        vertical-align: middle;\n",
       "    }\n",
       "\n",
       "    .dataframe tbody tr th {\n",
       "        vertical-align: top;\n",
       "    }\n",
       "\n",
       "    .dataframe thead th {\n",
       "        text-align: right;\n",
       "    }\n",
       "</style>\n",
       "<table border=\"1\" class=\"dataframe\">\n",
       "  <thead>\n",
       "    <tr style=\"text-align: right;\">\n",
       "      <th></th>\n",
       "      <th>title</th>\n",
       "      <th>overview</th>\n",
       "      <th>imdb_rating</th>\n",
       "      <th>tags</th>\n",
       "    </tr>\n",
       "    <tr>\n",
       "      <th>id</th>\n",
       "      <th></th>\n",
       "      <th></th>\n",
       "      <th></th>\n",
       "      <th></th>\n",
       "    </tr>\n",
       "  </thead>\n",
       "  <tbody>\n",
       "    <tr>\n",
       "      <th>2</th>\n",
       "      <td>Ariel</td>\n",
       "      <td>a finnish man goes to the city to find a job a...</td>\n",
       "      <td>7.4</td>\n",
       "      <td>[comedy, merjapulkkinen, romance, eetuhilkamo,...</td>\n",
       "    </tr>\n",
       "    <tr>\n",
       "      <th>3</th>\n",
       "      <td>Shadows in Paradise</td>\n",
       "      <td>nikander, a rubbish collector and would-be ent...</td>\n",
       "      <td>7.4</td>\n",
       "      <td>[jukka-pekkapalo, romance, marirantasila, esko...</td>\n",
       "    </tr>\n",
       "    <tr>\n",
       "      <th>5</th>\n",
       "      <td>Four Rooms</td>\n",
       "      <td>it's ted the bellhop's first night on the job....</td>\n",
       "      <td>6.7</td>\n",
       "      <td>[robertrodriguez, quinnhellerman, quentintaran...</td>\n",
       "    </tr>\n",
       "    <tr>\n",
       "      <th>6</th>\n",
       "      <td>Judgment Night</td>\n",
       "      <td>four young friends, while taking a shortcut en...</td>\n",
       "      <td>6.6</td>\n",
       "      <td>[lewiscolick, thriller, donovand.ross, nigelgi...</td>\n",
       "    </tr>\n",
       "    <tr>\n",
       "      <th>8</th>\n",
       "      <td>Life in Loops (A Megacities RMX)</td>\n",
       "      <td>timo novotny labels his new project an experim...</td>\n",
       "      <td>8.2</td>\n",
       "      <td>[documentary, michaelglawogger, timonovotny]</td>\n",
       "    </tr>\n",
       "  </tbody>\n",
       "</table>\n",
       "</div>"
      ],
      "text/plain": [
       "                               title                                           overview  imdb_rating                                               tags\n",
       "id                                                                                                                                                     \n",
       "2                              Ariel  a finnish man goes to the city to find a job a...          7.4  [comedy, merjapulkkinen, romance, eetuhilkamo,...\n",
       "3                Shadows in Paradise  nikander, a rubbish collector and would-be ent...          7.4  [jukka-pekkapalo, romance, marirantasila, esko...\n",
       "5                         Four Rooms  it's ted the bellhop's first night on the job....          6.7  [robertrodriguez, quinnhellerman, quentintaran...\n",
       "6                     Judgment Night  four young friends, while taking a shortcut en...          6.6  [lewiscolick, thriller, donovand.ross, nigelgi...\n",
       "8   Life in Loops (A Megacities RMX)  timo novotny labels his new project an experim...          8.2       [documentary, michaelglawogger, timonovotny]"
      ]
     },
     "execution_count": 42,
     "metadata": {},
     "output_type": "execute_result"
    }
   ],
   "source": [
    "df.head()"
   ]
  },
  {
   "cell_type": "code",
   "execution_count": 43,
   "id": "4e18a3c5-82f4-487b-b163-417c84405929",
   "metadata": {},
   "outputs": [],
   "source": [
    "df=df[:30000]"
   ]
  },
  {
   "cell_type": "code",
   "execution_count": 44,
   "id": "186d1e55-1cea-4fdd-9423-cb1dc44bb01e",
   "metadata": {},
   "outputs": [
    {
     "name": "stderr",
     "output_type": "stream",
     "text": [
      "[nltk_data] Downloading package punkt to\n",
      "[nltk_data]     /Users/ethancoskay/nltk_data...\n",
      "[nltk_data]   Package punkt is already up-to-date!\n",
      "[nltk_data] Downloading package wordnet to\n",
      "[nltk_data]     /Users/ethancoskay/nltk_data...\n",
      "[nltk_data]   Package wordnet is already up-to-date!\n",
      "[nltk_data] Downloading package stopwords to\n",
      "[nltk_data]     /Users/ethancoskay/nltk_data...\n",
      "[nltk_data]   Package stopwords is already up-to-date!\n",
      "/Applications/anaconda3/lib/python3.11/site-packages/sklearn/feature_extraction/text.py:525: UserWarning: The parameter 'token_pattern' will not be used since 'tokenizer' is not None'\n",
      "  warnings.warn(\n"
     ]
    },
    {
     "name": "stdout",
     "output_type": "stream",
     "text": [
      "5000\n"
     ]
    }
   ],
   "source": [
    "from sklearn.feature_extraction.text import TfidfVectorizer\n",
    "from nltk.corpus import stopwords\n",
    "from nltk.stem import WordNetLemmatizer\n",
    "from nltk.tokenize import word_tokenize\n",
    "import nltk\n",
    "\n",
    "# Ensure necessary NLTK data is downloaded\n",
    "nltk.download('punkt')\n",
    "nltk.download('wordnet')\n",
    "nltk.download('stopwords')\n",
    "\n",
    "# Initialize lemmatizer and stop words\n",
    "lemmatizer = WordNetLemmatizer()\n",
    "stop_words = set(stopwords.words('english'))\n",
    "\n",
    "# Define custom tokenizer\n",
    "def lemmatize_and_remove_stopwords(text):\n",
    "    tokens = word_tokenize(text.lower())\n",
    "    lemmatized_tokens = [lemmatizer.lemmatize(token) for token in tokens]\n",
    "    filtered_tokens = [token for token in lemmatized_tokens if token not in stop_words]\n",
    "    return filtered_tokens\n",
    "\n",
    "# Initialize TfidfVectorizer with custom tokenizer\n",
    "vectorizer = TfidfVectorizer(tokenizer=lemmatize_and_remove_stopwords, max_features=5000)\n",
    "\n",
    "tfidf_matrix = vectorizer.fit_transform(df[\"overview\"])\n",
    "\n",
    "# To view the feature names\n",
    "print(len(vectorizer.get_feature_names_out()))\n"
   ]
  },
  {
   "cell_type": "code",
   "execution_count": 45,
   "id": "112be8ca-5eb6-440a-94b5-a92f008a06cf",
   "metadata": {},
   "outputs": [],
   "source": [
    "cosineSimilarities = linear_kernel(tfidf_matrix, tfidf_matrix)"
   ]
  },
  {
   "cell_type": "code",
   "execution_count": 57,
   "id": "ed1c5cbb-6e9e-43d2-bd52-bba11ca6b1c5",
   "metadata": {},
   "outputs": [
    {
     "name": "stdout",
     "output_type": "stream",
     "text": [
      "(30000, 30000)\n",
      "[[1.         0.024673   0.04387235 ... 0.00383243 0.06050214 0.00559866]\n",
      " [0.024673   1.         0.08752498 ... 0.0090147  0.04043885 0.06671264]\n",
      " [0.04387235 0.08752498 1.         ... 0.0060158  0.00398379 0.03852898]\n",
      " ...\n",
      " [0.00383243 0.0090147  0.0060158  ... 1.         0.00366862 0.04857228]\n",
      " [0.06050214 0.04043885 0.00398379 ... 0.00366862 1.         0.05295783]\n",
      " [0.00559866 0.06671264 0.03852898 ... 0.04857228 0.05295783 1.        ]]\n"
     ]
    }
   ],
   "source": [
    "print(cosineSimilarities.shape)\n",
    "print(cosineSimilarities)"
   ]
  },
  {
   "cell_type": "code",
   "execution_count": 47,
   "id": "86abf0d0-e1ae-4f5a-bb0a-e98f9b239f38",
   "metadata": {},
   "outputs": [
    {
     "name": "stdout",
     "output_type": "stream",
     "text": [
      "['!' '#' '$' ... '“' '”' '•']\n"
     ]
    }
   ],
   "source": [
    "print(vectorizer.get_feature_names_out())"
   ]
  },
  {
   "cell_type": "code",
   "execution_count": 48,
   "id": "839b1017-52c2-44ad-96c7-a5a8ea704d05",
   "metadata": {},
   "outputs": [],
   "source": [
    "def combined_similarity(idx, cos_sim_matrix, df):\n",
    "    # Get the actual position of the given index\n",
    "    idx_pos = df.index.get_loc(idx)\n",
    "\n",
    "    results = []\n",
    "    for i in df.index:\n",
    "        i_pos = df.index.get_loc(i)\n",
    "\n",
    "        # Calculate similarities\n",
    "        jac = jaccard_similarity(df['tags'][idx], df['tags'][i])\n",
    "        cos = cos_sim_matrix[idx_pos][i_pos]\n",
    "\n",
    "        combined = (cos * 0.5 + jac * 0.5)\n",
    "        results.append((i, combined))  # i is the actual index label\n",
    "    \n",
    "    return sorted(results, key=lambda x: x[1], reverse=True)[:11]\n"
   ]
  },
  {
   "cell_type": "code",
   "execution_count": 49,
   "id": "df6ddd8b-6022-4f75-bdc5-6d4b1c8a7857",
   "metadata": {},
   "outputs": [],
   "source": [
    "recommendations = combined_similarity(idx=680, cos_sim_matrix=cosineSimilarities, df=df)"
   ]
  },
  {
   "cell_type": "code",
   "execution_count": 50,
   "id": "fe507f9a-eed4-4cae-97e0-8c77538b4c4b",
   "metadata": {},
   "outputs": [
    {
     "data": {
      "text/plain": [
       "[(680, 1.0),\n",
       " (500, 0.1928285049681768),\n",
       " (9282, 0.1855852559583886),\n",
       " (20621, 0.1804616242594228),\n",
       " (28699, 0.17682940928179064),\n",
       " (40077, 0.16536520181578104),\n",
       " (45508, 0.1605416288838325),\n",
       " (37902, 0.15135328344716964),\n",
       " (35907, 0.14860371274300577),\n",
       " (9401, 0.14638256014746545),\n",
       " (9812, 0.14620839142565834)]"
      ]
     },
     "execution_count": 50,
     "metadata": {},
     "output_type": "execute_result"
    }
   ],
   "source": [
    "recommendations"
   ]
  },
  {
   "cell_type": "code",
   "execution_count": 51,
   "id": "be594e94-ab91-4a0a-a9d9-674b958d36f3",
   "metadata": {},
   "outputs": [
    {
     "name": "stdout",
     "output_type": "stream",
     "text": [
      "Pulp Fiction\n",
      "Reservoir Dogs\n",
      "11:14\n",
      "Second Chance\n",
      "Underworld U.S.A.\n",
      "Devil Face, Angel Heart\n",
      "Return to a Better Tomorrow\n",
      "Corrado\n",
      "Kaante\n",
      "2 Days in the Valley\n",
      "Thursday\n"
     ]
    }
   ],
   "source": [
    "for pair in recommendations:\n",
    "    print(df.loc[pair[0]].title)"
   ]
  },
  {
   "cell_type": "code",
   "execution_count": 52,
   "id": "05a167e3-9612-4855-9269-5c07e8c2eb6c",
   "metadata": {},
   "outputs": [],
   "source": [
    "import pickle\n",
    "\n",
    "with open('cosine_sim_matrix.pkl', 'wb') as f:\n",
    "    pickle.dump(cosineSimilarities, f)"
   ]
  },
  {
   "cell_type": "code",
   "execution_count": 55,
   "id": "5ab89094-d719-4596-be73-52114c19a953",
   "metadata": {},
   "outputs": [],
   "source": [
    "df.to_pickle('movies.pkl')"
   ]
  },
  {
   "cell_type": "code",
   "execution_count": null,
   "id": "45dc6b3c-09b7-49af-83b7-8f168c43b0ed",
   "metadata": {},
   "outputs": [],
   "source": []
  }
 ],
 "metadata": {
  "kernelspec": {
   "display_name": "Python 3 (ipykernel)",
   "language": "python",
   "name": "python3"
  },
  "language_info": {
   "codemirror_mode": {
    "name": "ipython",
    "version": 3
   },
   "file_extension": ".py",
   "mimetype": "text/x-python",
   "name": "python",
   "nbconvert_exporter": "python",
   "pygments_lexer": "ipython3",
   "version": "3.11.4"
  }
 },
 "nbformat": 4,
 "nbformat_minor": 5
}
